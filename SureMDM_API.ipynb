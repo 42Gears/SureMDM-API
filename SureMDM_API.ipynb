{
  "nbformat": 4,
  "nbformat_minor": 0,
  "metadata": {
    "colab": {
      "provenance": [],
      "toc_visible": true
    },
    "kernelspec": {
      "name": "python3",
      "display_name": "Python 3"
    },
    "language_info": {
      "name": "python"
    }
  },
  "cells": [
    {
      "cell_type": "markdown",
      "source": [
        "**Setup pre-requisites for making API calls to SureMDM**"
      ],
      "metadata": {
        "id": "nhqhikpWjTX8"
      }
    },
    {
      "cell_type": "code",
      "source": [
        "import requests\n",
        "import json\n",
        "import base64\n",
        "import os\n",
        "\n",
        "#SureMDM API URL of your account. Replace this with your account URL\n",
        "url = \"https://licensedindia.in.suremdm.io/api/\"\n",
        "#Add headers\n",
        "headers = {\n",
        "    #Api-Key header, Replace with your API KEY\n",
        "    'ApiKey': \"APIKEY-XYZ\",\n",
        "    #Set content type\n",
        "    'Content-Type': \"application/json\",\n",
        "    }\n",
        "#Basic authentication credentials\n",
        "Credentials=(\"emailid\",\"password\") #Replace with your username and password"
      ],
      "metadata": {
        "id": "bxgHLI8RjUsf"
      },
      "execution_count": null,
      "outputs": []
    },
    {
      "cell_type": "markdown",
      "source": [
        "#Device"
      ],
      "metadata": {
        "id": "R5QwZwmcgijC"
      }
    },
    {
      "cell_type": "markdown",
      "source": [
        "##List Device"
      ],
      "metadata": {
        "id": "DqhzDAgkg2MB"
      }
    },
    {
      "cell_type": "markdown",
      "source": [
        "**API to List all the Devices**\n",
        "\n",
        "This api allows you to list all the devices on the basis of GroupID and store all the listed deviceids in a variable DeviceIds"
      ],
      "metadata": {
        "id": "qDp1guzTg_zq"
      }
    },
    {
      "cell_type": "markdown",
      "source": [
        "Request Body Schema\n",
        "\n",
        "| Parameter                       | Data Type | Description                                                |\n",
        "|---------------------------|-----------|------------------------------------------------------------|\n",
        "| AdanceSearch              | Boolean   | Enable advanced search (true/false).                       |\n",
        "| AdvSearchJobID            | String    | Advanced search job ID.                                    |\n",
        "| AdvSearchValue            | List      | Values for advanced search.                                |\n",
        "| SearchColumns             | List      | Columns to be searched.                                   |\n",
        "| EnableDeviceGlobalSearch  | Boolean   | Enable global search for devices (true/false).            |\n",
        "| ID                        | Value     | Group ID for filtering devices.                           |\n",
        "| IsSearch                  | Boolean   | Indicate if it's a search operation (true/false).         |\n",
        "| IsTag                     | Boolean   | Indicate if tag use for filteration (true/false).            |\n",
        "| Limit                     | Integer   | Maximum number of results to retrieve.                    |\n",
        "| Offset                    | Integer   | Number of results to skip before retrieving.              |\n",
        "| SearchValue               | String    | Search value for device search.                           |\n",
        "| SortColumn                | String    | Column for sorting results.                               |\n",
        "| SortOrder                 | String    | Sort order (asc/desc) for sorting results.                |\n",
        "| Columns                   | List      | Columns to include in the response.                       |\n",
        "| IsIncludedBlackListed     | Boolean   | Include blacklisted devices (true/false).                |\n"
      ],
      "metadata": {
        "id": "DSrPE7cYjN0f"
      }
    },
    {
      "cell_type": "code",
      "source": [
        "GroupID = \"null\"  # Enter the Group ID  #GroupID =>  null for home group\n",
        "Body = f'''{{\n",
        "    \"AdanceSearch\": false,\n",
        "    \"AdvSearchJobID\": \"\",\n",
        "    \"AdvSearchValue\": [],\n",
        "    \"SearchColumns\": [],\n",
        "    \"EnableDeviceGlobalSearch\": false,\n",
        "    \"ID\":null,\n",
        "    \"IsSearch\": false,\n",
        "    \"IsTag\": false,\n",
        "    \"Limit\": 100,\n",
        "    \"Offset\": 0,\n",
        "    \"SearchValue\": \"\",\n",
        "    \"SortColumn\": \"DeviceName\",\n",
        "    \"SortOrder\": \"asc\",\n",
        "    \"Columns\": [\n",
        "        \"DeviceName\",\n",
        "        \"DeviceModelName\",\n",
        "        \"ConnectionStatus\",\n",
        "        \"LastTimeStamp\",\n",
        "        \"Battery\",\n",
        "        \"DeviceTimeStamp\",\n",
        "        \"ReleaseVersion\"\n",
        "    ],\n",
        "    \"IsIncludedBlackListed\": false\n",
        "}}'''\n",
        "\n",
        "#Limit:maximum number of results (rows) you want to receive in the response\n",
        "#Offset=0 =>start retrieving results from the beginning, Offset=10 =>skip the first 10 results and start retrieving results from the 11th one and so on\n",
        "\n",
        "\n",
        "#Send request\n",
        "response = requests.post(url+\"devicegrid\",auth=Credentials,data=Body,headers=headers)\n",
        "\n",
        "print(json.dumps(json.loads(response.text), indent=4))\n",
        "response_data = response.json()\n",
        "print(response.text)\n",
        "\n",
        "if \"rows\" in response_data and len(response_data[\"rows\"]) > 0:\n",
        "    DeviceIds = [device[\"DeviceID\"] for device in response_data[\"rows\"]]\n",
        "    print(\"Device IDs:\", DeviceIds)\n"
      ],
      "metadata": {
        "id": "JDIa4DJWhEp6"
      },
      "execution_count": null,
      "outputs": []
    },
    {
      "cell_type": "markdown",
      "source": [
        "#Group"
      ],
      "metadata": {
        "id": "QP6HpfWChLEZ"
      }
    },
    {
      "cell_type": "markdown",
      "source": [
        "##Create Group"
      ],
      "metadata": {
        "id": "bB4ZV5yHhWsx"
      }
    },
    {
      "cell_type": "markdown",
      "source": [
        "**API to create new group**\n",
        "\n",
        "This api allows you to create new Group"
      ],
      "metadata": {
        "id": "uAzaUVsJhSA-"
      }
    },
    {
      "cell_type": "markdown",
      "source": [
        "Request Body Schema\n",
        "\n",
        "| Parameter           | Data Type | Description                              |\n",
        "|---------------|-----------|------------------------------------------|\n",
        "| GroupID       | String     | ID of the parent group       |\n",
        "| GroupName     | String    | Name of the group.                       |\n"
      ],
      "metadata": {
        "id": "hc7OAU8ywwV1"
      }
    },
    {
      "cell_type": "code",
      "source": [
        "GroupName = \"testgroup12\"  #Enter Group Name\n",
        "\n",
        "Body = f\"\"\"{{\n",
        "   \"GroupID\": \"371b9766-1279-4d14-b435-901743cdb251\",\n",
        "   \"GroupName\":\"{GroupName}\"\n",
        "}}\"\"\"\n",
        "#GroupID: ID of the parent group, null means HOME\n",
        "\n",
        "#Send request\n",
        "response = requests.post(url+\"group\",auth=Credentials,data=Body,headers=headers)\n",
        "\n",
        "print(response.text)\n",
        "GroupID = response.text"
      ],
      "metadata": {
        "id": "Pr91pN42hjmX"
      },
      "execution_count": null,
      "outputs": []
    },
    {
      "cell_type": "markdown",
      "source": [
        "##Move Device to Group"
      ],
      "metadata": {
        "id": "Klqwk1JjhpNe"
      }
    },
    {
      "cell_type": "markdown",
      "source": [
        "**API to move devices to the group**\n",
        "\n",
        "This api allows you to move all the Devices that are listed in List device section to the new group that has been created in Create Group section"
      ],
      "metadata": {
        "id": "ABek0g6Zh2Do"
      }
    },
    {
      "cell_type": "markdown",
      "source": [
        "Request Body Schema\n",
        "\n",
        "| Key         | Data Type | Description                                |\n",
        "|-------------|-----------|--------------------------------------------|\n",
        "| DeviceId    | List     | ID of the device.                         |\n",
        "| GroupId     | String     | The ID of the destination group for the device movement |\n"
      ],
      "metadata": {
        "id": "7ond6yMRxMJn"
      }
    },
    {
      "cell_type": "code",
      "source": [
        "Body = [\n",
        "    {\"DeviceId\": device_id, \"GroupId\": GroupID} for device_id in DeviceIds\n",
        "]\n",
        "\n",
        "#Send request\n",
        "response = requests.put(url + \"deviceassignment\", auth=Credentials, json=Body, headers=headers)\n",
        "print(\"Move response:\", response.text)"
      ],
      "metadata": {
        "id": "C_EDMpkWh7Xw"
      },
      "execution_count": null,
      "outputs": []
    },
    {
      "cell_type": "markdown",
      "source": [
        "#User Management"
      ],
      "metadata": {
        "id": "lnwzsC1OjrlQ"
      }
    },
    {
      "cell_type": "markdown",
      "source": [
        "##Create Device Group Set"
      ],
      "metadata": {
        "id": "X-EfNCd6kyDC"
      }
    },
    {
      "cell_type": "markdown",
      "source": [
        "**API to create Device Group set**\n",
        "\n",
        "This api allows you to create Device Group set based on GroupIDs and Users assigned these Device Group Set will have the visibility of the devices which is in this device group set."
      ],
      "metadata": {
        "id": "itw3-736k5v_"
      }
    },
    {
      "cell_type": "markdown",
      "source": [
        "Request Body Schema\n",
        "\n",
        "| Parameter                             | Data Type | Description                                           |\n",
        "|---------------------------------|-----------|-------------------------------------------------------|\n",
        "| TemplateName                    | String    | Name of the device set template.                     |\n",
        "| TemplateDescription             | String    | Description of the device set template.              |\n",
        "| TemplateData                    | List of string    | List of Group IDs             |\n",
        "| isAllowedNewGroupOrJobFolder    | Integer   | Allow addition of new group according to need         |\n",
        "\n",
        "Values for `isAllowedNewGroupOrJobFolder`:\n",
        "\n",
        "| Value | Description                                               |\n",
        "|-------|-----------------------------------------------------------|\n",
        "| 0     | Don't Allow Any New Groups                               |\n",
        "| 1     | Automatically Allow New Groups Added Within Home Group and Allowed Sub Groups |\n",
        "| 2     | Automatically Allow New Groups Added Only Within Allowed Sub Groups |\n"
      ],
      "metadata": {
        "id": "5QyU5R5ClWJ_"
      }
    },
    {
      "cell_type": "code",
      "source": [
        "deviceSet_template_name = \"GroupSet16\"             #Name of Device Group Set\n",
        "deviceSet_template_description = \"Device_GroupSet13\"\n",
        "deviceSet_template_data = [GroupID]           #List of Device Group ID\n",
        "isAllowedNewGroupOrJobFolder = 0\n",
        "#isAllowedNewGroupOrJobFolder=> 0:Don't Allow Any New Groups, 1:Automatically Allow New Groups Added Within Home Group and Allowed Sub Groups, 2:Automatically Allow New Groups Added Only Within Allowed Sub Groups\n",
        "\n",
        "# Construct the request body\n",
        "Body = {\n",
        "    \"TemplateName\": deviceSet_template_name,\n",
        "    \"TemplateDescription\": deviceSet_template_description,\n",
        "    \"TemplateData\": deviceSet_template_data,\n",
        "    \"isAllowedNewGroupOrJobFolder\": isAllowedNewGroupOrJobFolder\n",
        "}\n",
        "\n",
        "# Send POST request\n",
        "response = requests.post(url + \"UserGroupPermission\", auth=Credentials, json=Body, headers=headers)\n",
        "\n",
        "# Print the response\n",
        "print(json.dumps(json.loads(response.text), indent=4))\n",
        "\n",
        "response_data = response.json()\n",
        "for template in response_data:\n",
        "    if template[\"TemplateName\"] == deviceSet_template_name and template[\"TemplateDescription\"]==deviceSet_template_description:\n",
        "        GroupTemplateID = template[\"TemplateId\"]\n",
        "        print(GroupTemplateID)"
      ],
      "metadata": {
        "id": "G-0XgEKbk2h0"
      },
      "execution_count": null,
      "outputs": []
    },
    {
      "cell_type": "markdown",
      "source": [
        "##Create Jobs/Profiles Folder Set"
      ],
      "metadata": {
        "id": "WpUTdBLklEk0"
      }
    },
    {
      "cell_type": "markdown",
      "source": [
        "**API to create Jobs/profiles folder Set**\n",
        "\n",
        "This api allows you to create Jobs/Profiles Folder and User assigned with this Jobs?Profiles Folder Set will have visibility of this Jobs/Profiles set only."
      ],
      "metadata": {
        "id": "e794NFAUlLml"
      }
    },
    {
      "cell_type": "markdown",
      "source": [
        "Request Body Schema\n",
        "\n",
        "| Parameter                             | Data Type | Description                                           |\n",
        "|---------------------------------|-----------|-------------------------------------------------------|\n",
        "| TemplateName                    | String    | Name of the folder template.                         |\n",
        "| TemplateDescription             | String    | Description of the folder template.                  |\n",
        "| TemplateData                    | List of String    | List of Ids of Jobs/Profiles folder     |\n",
        "| isAllowedNewGroupOrJobFolder    | Integer   | Allow addition of new groups or job folders according to need        |\n",
        "| ReportTemplateData              | List of String    | List of Ids of Custom reports folder      |\n",
        "| isForClone                      | Boolean   | Indicates if the template is for cloning purposes.  |\n",
        "\n",
        "Values for `isAllowedNewGroupOrJobFolder`:\n",
        "\n",
        "| Value | Description                                               |\n",
        "|-------|-----------------------------------------------------------|\n",
        "| 0     | Don't Allow Any New Folders                              |\n",
        "| 1     | Automatically Allow New Folders Added Within Home Folder and Allowed Sub Folders |\n",
        "| 2     | Automatically Allow New Folders Added Only Within Allowed Sub Folders |\n"
      ],
      "metadata": {
        "id": "qspCl_pBp0Ii"
      }
    },
    {
      "cell_type": "code",
      "source": [
        "folder_template_name = \"Create_Jobs/profiles_9\"              #Name of Folder Set\n",
        "folder_template_description = \"Create_Jobs/profiles_9\"\n",
        "folder_template_data = [\n",
        "\n",
        "]                                             #folder_template_data => List of Ids of Jobs/Profiles folder\n",
        "is_allowed_new_group_or_job_folder = \"0\"\n",
        "report_template_data = []                     #report_template_data => List of Ids of Custom reports folder\n",
        "is_for_clone = False\n",
        "#isAllowedNewGroupOrJobFolder=> 0:Don't Allow Any New Folders, 1:Automatically Allow New Folders Added Within Home Folder and Allowed Sub Folders, 2:Automatically Allow New Folders Added Only Within Allowed Sub Folders\n",
        "\n",
        "\n",
        "Body = {\n",
        "    \"TemplateName\": folder_template_name,\n",
        "    \"TemplateDescription\": folder_template_description,\n",
        "    \"TemplateData\": folder_template_data,\n",
        "    \"isAllowedNewGroupOrJobFolder\": is_allowed_new_group_or_job_folder,\n",
        "    \"ReportTemplateData\": report_template_data,\n",
        "    \"isForClone\": is_for_clone\n",
        "}\n",
        "\n",
        "# Send POST request\n",
        "response = requests.post(url + \"UserJobPermission\", auth=Credentials, json=Body, headers=headers)\n",
        "\n",
        "print(json.dumps(json.loads(response.text), indent=4))\n",
        "\n",
        "response_data = response.json()\n",
        "for template in response_data:\n",
        "    if template[\"TemplateName\"] == folder_template_name and template[\"TemplateDescription\"]==folder_template_description:\n",
        "        JobsTemplateId = template[\"TemplateId\"]\n",
        "\n",
        "print(JobsTemplateId)\n"
      ],
      "metadata": {
        "id": "mrLll6pulJkf"
      },
      "execution_count": null,
      "outputs": []
    },
    {
      "cell_type": "markdown",
      "source": [
        "##Create Role"
      ],
      "metadata": {
        "id": "crAPvN4NlctO"
      }
    },
    {
      "cell_type": "markdown",
      "source": [
        "**Permission IDs and Description**\n",
        "<details>\n",
        "<summary><b style=\"font-size: 18px;\">Click here to take the reference and add the value in Role_template_data</summary>\n",
        "\n",
        "| Permission ID | Description                                  |\n",
        "|---------------|----------------------------------------------|\n",
        "| 1             | New Group                                    |\n",
        "| 2             | Rename Group                                 |\n",
        "| 3             | Delete Group                                 |\n",
        "| 4             | Add/Delete Group Job                         |\n",
        "| 5             | Delete Device                                |\n",
        "| 6             | Apply Job                                    |\n",
        "| 7             | Job Queue Remove job                         |\n",
        "| 8             | Blacklist Device                             |\n",
        "| 9             | Remote Device                                |\n",
        "| 10            | Locate Device/Location Tracking              |\n",
        "| 11            | Send Message To Device                       |\n",
        "| 12            | Reboot Device                                |\n",
        "| 13            | Lock Device                                  |\n",
        "| 14            | Wipe Device                                  |\n",
        "| 15            | Lock Applications                           |\n",
        "| 16            | Uninstall Applications                       |\n",
        "| 17            | Applicaiton Run At Atart Up                  |\n",
        "| 18            | Monitor Application                          |\n",
        "| 19            | Import Preapproved Device                    |\n",
        "| 20            | Auto Approve Device                          |\n",
        "| 21            | Approve Device                               |\n",
        "| 22            | Whitelist Device                             |\n",
        "| 23            | Close Ticket                                 |\n",
        "| 24            | Delete Ticket                                |\n",
        "| 25            | Add/Edit/Delete Service Centers              |\n",
        "| 26            | Add/Edit/Delete Fault Codes                  |\n",
        "| 27            | Delete Message                               |\n",
        "| 28            | Reply Message                                |\n",
        "| 29            | New Job                                      |\n",
        "| 30            | Delete Job                                   |\n",
        "| 31            | Modify Job                                   |\n",
        "| 32            | Generate Configuration Barcodes              |\n",
        "| 33            | System Log Report                            |\n",
        "| 34            | Device Health Report                         |\n",
        "| 35            | Device Connected Report                      |\n",
        "| 36            | Jobs Deployed Report                         |\n",
        "| 37            | Asset Tracking Report                        |\n",
        "| 38            | Activity Console                             |\n",
        "| 39            | Change Password                              |\n",
        "| 40            | License Management                           |\n",
        "| 41            | Add User                                     |\n",
        "| 42            | Edit User                                    |\n",
        "| 43            | Delete User                                  |\n",
        "| 44            | Edit Device Name                             |\n",
        "| 45            | Edit Device Notes                            |\n",
        "| 46            | Assign Group                                 |\n",
        "| 47            | CallLog Tracking Report                      |\n",
        "| 48            | Call Logs                                    |\n",
        "| 49            | SureLock Settings                            |\n",
        "| 50            | SureFox Settings                             |\n",
        "| 51            | App Version Tracking Report                  |\n",
        "| 53            | Clear Application Data                       |\n",
        "| 54            | SureVideo Settings                           |\n",
        "| 55            | Device History Report                        |\n",
        "| 56            | DataUsage Report                             |\n",
        "| 57            | SmsLog Device                                |\n",
        "| 58            | Allow Home Group                             |\n",
        "| 59            | Edit Telecom Management                      |\n",
        "| 60            | Allow new device group                       |\n",
        "| 61            | Allow new Folder                             |\n",
        "| 62            | Hide/Unhide Application                      |\n",
        "| 63            | OS Platforms Chart                           |\n",
        "| 64            | Available Battery Chart                      |\n",
        "| 65            | Available RAM Chart                          |\n",
        "| 66            | Available Storage Chart                      |\n",
        "| 67            | Last Connected Chart                         |\n",
        "| 68            | Online/Offline Chart                         |\n",
        "| 69            | Device SIM Status Chart                      |\n",
        "| 70            | Roaming Status Chart                         |\n",
        "| 71            | Unread Mail Chart                            |\n",
        "| 72            | Unapproved Devices Chart                     |\n",
        "| 73            | Jobs Chart                                   |\n",
        "| 74            | New folder                                   |\n",
        "| 75            | Upload files                                 |\n",
        "| 76            | Delete File/Folder                           |\n",
        "| 77            | Add Android Profile                          |\n",
        "| 78            | Edit Android Profile                         |\n",
        "| 79            | Delete Android Profile                       |\n",
        "| 80            | Set As Default Android Profile               |\n",
        "| 81            | Enroll AFW Android Profile                   |\n",
        "| 82            | Add iOS Profile                              |\n",
        "| 83            | Edit iOS Profile                             |\n",
        "| 84            | Delete iOS Profile                           |\n",
        "| 85            | Set As Default iOS Profile                   |\n",
        "| 86            | Settings Android Profile                     |\n",
        "| 87            | Add Windows Profile                          |\n",
        "| 88            | Edit Windows Profile                         |\n",
        "| 89            | Delete Windows Profile                       |\n",
        "| 90            | Set As Default Windows Profile               |\n",
        "| 91            | Remote Buzz                                  |\n",
        "| 92            | App Store Android Add                        |\n",
        "| 93            | App Store Android Edit                       |\n",
        "| 94            | App Store Android Remove                     |\n",
        "| 95            | App Store iOS Add                            |\n",
        "| 96            | App Store iOS Edit                           |\n",
        "| 97            | App Store iOS Remove                         |\n",
        "| 99            | Installed Job Report                         |\n",
        "| 100           | Change Password                              |\n",
        "| 101           | Enable or Disable User                       |\n",
        "| 102           | Add macOS Profile                            |\n",
        "| 103           | Edit macOS Profile                           |\n",
        "| 104           | Delete macOS Profile                         |\n",
        "| 105           | Set As Default macOS Profile                |\n",
        "| 106           | App Store macOS Add                         |\n",
        "| 107           | App Store macOS Edit                        |\n",
        "| 108           | App Store macOS Remove                      |\n",
        "| 109           | Export                                      |\n",
        "| 112           | Clear History                               |\n",
        "| 113           | Modify History                              |\n",
        "| 114           | Export History                              |\n",
        "| 115           | Apply Profile                               |\n",
        "| 116           | Compliance Job Report                       |\n",
        "| 117           | Device Activity Report                      |\n",
        "| 118           | App Store Windows Add                       |\n",
        "| 119           | App Store Windows Edit                      |\n",
        "| 120           | App Store Windows Remove                    |\n",
        "| 121           | Custom Report                               |\n",
        "| 122           | View Custom Report                          |\n",
        "| 123           | Modify Custom Report                        |\n",
        "| 124           | Delete Custom Report                        |\n",
        "| 125           | Allow Intercom                              |\n",
        "| 126           | Remote Control                              |\n",
        "| 127           | File Manager                                |\n",
        "| 128           | Remote Clipboard                            |\n",
        "| 129           | Task Manager                                |\n",
        "| 130           | Data Usage Report                           |\n",
        "| 131           | Branding Info                               |\n",
        "| 132           | Device Enrollment Rules                     |\n",
        "| 133           | EULA Disclaimer Policy                      |\n",
        "| 134           | iOS/macOS Settings                          |\n",
        "| 135           | Group Assignment Rules                      |\n",
        "| 136           | SAML Single Sign-On                         |\n",
        "| 137           | Alert Template                              |\n",
        "| 138           | Customize Toolbar                           |\n",
        "| 139           | Customize Nix/SureLock                       |\n",
        "| 140           | Certificate Management                       |\n",
        "| 141           | Data Analytics                               |\n",
        "| 142           | Miscellaneous Settings                       |\n",
        "| 143           | Mobile Email Management                      |\n",
        "| 144           | Account Management                           |\n",
        "| 145           | Manage Subscription                          |\n",
        "| 146           | Over All Compliance Chart                    |\n",
        "| 147           | OS Version Compliance Chart                  |\n",
        "| 148           | Rooted Compliance Chart                      |\n",
        "| 149           | Connectivity Compliance Chart                |\n",
        "| 150           | Sim Change Compliance Chart                 |\n",
        "| 151           | Password Policy Compliance Chart            |\n",
        "| 152           | Battery Compliance Chart                    |\n",
        "| 153           | Application Policy Compliance Chart         |\n",
        "| 154           | Siem Integration                            |\n",
        "| 155           | Chrome OS Device Management                 |\n",
        "| 156           | Office365 Settings                          |\n",
        "| 157           | Add Office365 Profile                       |\n",
        "| 158           | Edit Office365 Profile                      |\n",
        "| 159           | Delete Office365 Profile                    |\n",
        "| 160           | Assign to groups Office365 Profile          |\n",
        "| 161           | WebHooks Settings                           |\n",
        "| 162           | Email Verification                          |\n",
        "| 163           | Select unapproved Android Enterprise apps   |\n",
        "| 164           | Plugins                                     |\n",
        "| 165           | SD Card Change Compliance Chart             |\n",
        "| 166           | Firmware Updates                            |\n",
        "| 167           | Efota Registration Status Chart             |\n",
        "| 168           | Update Firmware                             |\n",
        "| 169           | Move to Folder Android Profile              |\n",
        "| 170           | Move to Folder iOS Profile                  |\n",
        "| 171           | Move to Folder Windows Profile              |\n",
        "| 172           | Move to Folder macOS Profile                |\n",
        "| 173           | Data Analytics Dashboard                    |\n",
        "| 174           | Mobile Network Connectivity Compliance Chart|\n",
        "| 175           | Windows Health Attestation                  |\n",
        "| 176           | Intel AMT Status                            |\n",
        "| 177           | Device Storage Compliance Chart             |\n",
        "| 178           | Move Jobs To Folder                         |\n",
        "| 179           | Set as Default QR Code                      |\n",
        "| 180           | Modify QR Code                              |\n",
        "| 181           | Delete QR Code                              |\n",
        "| 182           | View QR Code                                |\n",
        "| 183           | Create QR Code                              |\n",
        "| 185           | Mark As Read                                |\n",
        "| 186           | Mark As Unread                              |\n",
        "| 187           | Cleanup Inbox                               |\n",
        "| 188           | Add Linux Profile                           |\n",
        "| 189           | Edit Linux Profile                          |\n",
        "| 190           | Delete Linux Profile                        |\n",
        "| 191           | Set As Default Linux Profile               |\n",
        "| 192           | Move to Folder Linux Profile               |\n",
        "| 193           | NAC Integration                            |\n",
        "| 194           | Rename Dashboard                           |\n",
        "| 195           | Copy Dashboard                             |\n",
        "| 196           | Edit Dashboard                             |\n",
        "| 197           | Delete Dashboard                           |\n",
        "| 198           | My Favourite Dashboard                     |\n",
        "| 199           | Dashboard Edit Layout                      |\n",
        "| 200           | Dashboard Add Chart                        |\n",
        "| 201           | Create Dashboard                           |\n",
        "| 202           | Data Usage Status                          |\n",
        "| 203           | Enterprise Integrations                    |\n",
        "| 204           | Scan for threats                           |\n",
        "| 205           | Windows Copy Genuine Validation            |\n",
        "| 206           | Mobile Threat Defence                      |\n",
        "| 221           | Create Custom Column                  |\n",
        "| 222           | Delete Custom Column                  |\n",
        "| 223           | Move Device                           |\n",
        "| 224           | Security Patch Level                  |\n",
        "| 225           | Custom                                |\n",
        "| 226           | Windows Update                        |\n",
        "| 256           | Edit Bluetooth Name                   |\n",
        "| 257           | Modify Custom Column                  |\n",
        "| 258           | Edit Android Enterprise               |\n",
        "| 259           | Edit Geo Fence                        |\n",
        "| 260           | Edit Time Fence                       |\n",
        "| 261           | Edit Network Fence                    |\n",
        "| 262           | Remove Installed Profile              |\n",
        "| 263           | Reset Password                        |\n",
        "| 264           | System Scan                           |\n",
        "| 265           | Active Kiosk Application              |\n",
        "| 266           | Wi-Fi Signal Strength                 |\n",
        "| 267           | Location Access                       |\n",
        "| 268           | Edit Custom Column                    |\n",
        "| 269           | Things Management                     |\n",
        "| 270           | Unapproved View                       |\n",
        "| 271           | Preapproved View                            |\n",
        "| 272           | Allow Enrollment                            |\n",
        "| 273           | Block Enrollment                            |\n",
        "| 274           | Invite User                                 |\n",
        "| 275           | Blocklisted View                            |\n",
        "| 276           | Pending Delete View                         |\n",
        "| 277           | Force Delete                                |\n",
        "| 278           | Jobs View                                   |\n",
        "| 279           | Reports View                                |\n",
        "| 280           | Dashboard View                              |\n",
        "| 281           | Inbox View                                  |\n",
        "| 283           | Profiles View                               |\n",
        "| 284           | App Store View                              |\n",
        "| 285           | Enrollment View                             |\n",
        "| 286           | MTD View                                    |\n",
        "| 287           | Allow FileStore Permissions                 |\n",
        "| 288           | Device Encryption Report                    |\n",
        "| 289           | Restore                                     |\n",
        "| 290           | View Custom Property                        |\n",
        "| 291           | Add Custom Property                         |\n",
        "| 292           | Modify Custom Property                      |\n",
        "| 293           | Delete Custom Property                      |\n",
        "| 294           | Import Custom Property                      |\n",
        "| 295           | View Custom property                        |\n",
        "| 296           | Edit Custom property                        |\n",
        "| 297           | Add Default Job                             |\n",
        "| 298           | Delete Default Job                          |\n",
        "| 301           | Retry Pending/Failed Jobs                   |\n",
        "| 303           | Export Logs                                 |\n",
        "| 304           | Device Logs                                 |\n",
        "| 305           | Enable FileStore - all devices              |\n",
        "| 306           | Allow Remote Screen Settings                |\n",
        "| 307           | Allow Remote Screen Play/Pause              |\n",
        "| 308           | Allow Remote Screen Swipe to Unlock         |\n",
        "| 309           | Allow Remote Screen Volume                  |\n",
        "| 310           | Allow Remote Screen Search                  |\n",
        "| 311           | Allow Remote Screen Screenshot              |\n",
        "| 312           | Allow Remote Screen Ctrl+alt+delete        |\n",
        "| 313           | Allow Remote Screen Shortcut Management    |\n",
        "| 314           | Allow Remote Screen Change View            |\n",
        "| 315           | Allow Remote Screen Resolution Change      |\n",
        "| 316           | Allow remote New Folder                    |\n",
        "| 317           | Allow remote Delete                        |\n",
        "| 318           | Allow remote Download                      |\n",
        "| 319           | Allow remote Upload                        |\n",
        "| 320           | Allow Remote Send to Device Clipboard      |\n",
        "| 321           | Allow Remote Read from Device Clipboard    |\n",
        "| 322           | Allow Remote Clear from Device Clipboard   |\n",
        "| 323           | Allow Remote Kill Process Task Manager     |\n",
        "| 324           | Allow Remote Kill AllTask Manager          |\n",
        "| 325           | App Store Linux Add                        |\n",
        "| 326           | App Store Linux Edit                       |\n",
        "| 327           | App Store Linux Remove                     |\n",
        "| 328           | Edit Things Info                           |\n",
        "| 330           | Device Enrollment Restrictions             |\n",
        "| 331           | Custom Properties                           |\n",
        "| 332           | Import Custom property                      |\n",
        "| 333           | Edit Custom Property                        |\n",
        "| 334           | Group Details                               |\n",
        "| 335           | Hardware Change                             |\n",
        "| 336           | Device Encryption                           |\n",
        "| 337           | Device Uptime                               |\n",
        "| 338           | OS Build Number                             |\n",
        "| 339           | Allow Remote View                           |\n",
        "| 340           | Allow Remote Touch                          |\n",
        "| 342           | Service Now                                 |\n",
        "| 343           | Apps                                        |\n",
        "| 344           | Power Off Device                            |\n",
        "| 345           | Job Revision History                        |\n",
        "| 346           | Revert Job                                  |\n",
        "| 347           | Compare Job                                 |\n",
        "| 348           | Save as Job                                 |\n",
        "| 349           | Export Logs                                 |\n",
        "| 350           | Download Logs                               |\n",
        "| 351           | Request Report                              |\n",
        "| 352           | OEM Configuration Status                    |\n",
        "| 353           | Android Management                          |\n",
        "| 358           | Play For Work                               |\n",
        "| 360           | Add Custom Report                           |\n",
        "| 361           | Add ChromeOS Profile                        |\n",
        "| 362           | Edit ChromeOS Profile                       |\n",
        "| 363           | Delete ChromeOS Profile                     |\n",
        "| 364           | App Store ChromeOS Add                      |\n",
        "| 365           | App Store ChromeOS Edit                     |\n",
        "| 366           | App Store ChromeOS Remove                   |\n",
        "| 367           | Apply Jobs/Profile                          |\n",
        "| 1111          | Relay Server Report                         |\n",
        "| 11001         | Auto fix rules                              |\n",
        "| 12001         | Application version                         |\n",
        "| 12002         | OS build version                            |\n",
        "\n",
        "</details>\n"
      ],
      "metadata": {
        "id": "RYwNrt2slqfh"
      }
    },
    {
      "cell_type": "markdown",
      "source": [
        "**API to create Role**\n",
        "\n",
        "This api allows you to create Role based on specific sets of permission IDs and Users assigned these roles will have the ability to perform actions corresponding to the provided permission IDs. In other words, users will be limited to actions granted by the permissions associated with their roles."
      ],
      "metadata": {
        "id": "H-1JFOdilw1a"
      }
    },
    {
      "cell_type": "markdown",
      "source": [
        "Request Body Schema\n",
        "\n",
        "| Parameter                | Data Type | Description                                |\n",
        "|---------------------|-----------|--------------------------------------------|\n",
        "| TemplateName        | String    | Name of the role template.                 |\n",
        "| TemplateDescription | String    | Description of the role template.          |\n",
        "| TemplateData        | List of Integer    | Set of permission ids      |\n"
      ],
      "metadata": {
        "id": "NnjRtIppsYAX"
      }
    },
    {
      "cell_type": "code",
      "source": [
        "Role_template_name = \"licensed_india_role13\"           #Name of Role Template\n",
        "Role_template_description = \"licensed_india_role13\"       #Description of Role Template\n",
        "\n",
        "Role_template_data = [1,2]\n",
        "# Role_template_data contains IDs for specific permission.\n",
        "# To add IDs, refer to the descriptions and include the corresponding values.\n",
        "\n",
        "Body = {\n",
        "    \"TemplateName\": Role_template_name,\n",
        "    \"TemplateDescription\": Role_template_description,\n",
        "    \"TemplateData\": Role_template_data\n",
        "}\n",
        "\n",
        "# Send POST request\n",
        "response = requests.post(url + \"UserRole\", auth=Credentials, json=Body, headers=headers)\n",
        "\n",
        "# Print the response\n",
        "print(json.dumps(json.loads(response.text), indent=4))\n",
        "\n",
        "response_data = response.json()\n",
        "for template in response_data:\n",
        "    if template[\"TemplateName\"] == Role_template_name and template[\"TemplateDescription\"]==Role_template_description:\n",
        "        RoleTemplateID = template[\"TemplateId\"]\n",
        "\n",
        "print(RoleTemplateID)\n"
      ],
      "metadata": {
        "id": "GiR5dmaZldWe"
      },
      "execution_count": null,
      "outputs": []
    },
    {
      "cell_type": "markdown",
      "source": [
        "##Create Device Grid Column set"
      ],
      "metadata": {
        "id": "NZj35KHrl5qf"
      }
    },
    {
      "cell_type": "markdown",
      "source": [
        "**Grid Column IDs and Description**\n",
        "<details>\n",
        "<summary><b style=\"font-size: 18px;\">Click here to take the reference and add the value in Grid_data_template</summary>\n",
        "\n",
        "\n",
        "| ID  | Description                   |\n",
        "|-----|-------------------------------|\n",
        "| 0   | Select All                    |\n",
        "| 11  | Agent Version                 |\n",
        "| 42  | Android Enterprise            |\n",
        "| 57  | Android ID                    |\n",
        "| 3   | Battery                       |\n",
        "| 82  | Battery Serial Number         |\n",
        "| 83  | Battery Charge Cycles         |\n",
        "| 84  | Battery Health                |\n",
        "| 33  | Bluetooth Status              |\n",
        "| 40  | Bluetooth Name                |\n",
        "| 35  | Bluetooth SSID                |\n",
        "| 10  | Cell Signal Strength(%)       |\n",
        "| 71  | Cell Signal Strength(dBm)     |\n",
        "| 72  | CPU Temperature               |\n",
        "| 22  | CPU USAGE                     |\n",
        "| 49  | CTS Verified                  |\n",
        "| 21  | Data Usage                    |\n",
        "| 67  | DEP Server                    |\n",
        "| 61  | Device ID                     |\n",
        "| 63  | Device Locale                 |\n",
        "| 55  | Device Local IP Address       |\n",
        "| 7   | Device Registered             |\n",
        "| 9   | Device Roaming                |\n",
        "| 54  | Device Time Zone              |\n",
        "| 30  | Device User Name              |\n",
        "| 47  | Encryption Status             |\n",
        "| 26  | Enrolled                      |\n",
        "| 60  | Firmware Version              |\n",
        "| 59  | FOTA Registration Status      |\n",
        "| 39  | Free Program Memory           |\n",
        "| 38  | Free Storage Memory           |\n",
        "| 81   | Google Advertising ID            |\n",
        "| 31   | GPS Status                       |\n",
        "| 23   | GPU Usage                        |\n",
        "| 43   | Group Path                       |\n",
        "| 58   | Hash Code                        |\n",
        "| 66   | Hostname                         |\n",
        "| 16   | IMEI                             |\n",
        "| 48   | IMEI2                            |\n",
        "| 73   | IMSI                             |\n",
        "| 80   | Installer Package                |\n",
        "| 62   | Intel® AMT Status                |\n",
        "| 4    | IP Address                       |\n",
        "| 20   | KNOX License                     |\n",
        "| 5    | Last Connected                   |\n",
        "| 6    | Last Device Time                 |\n",
        "| 65   | Last Logged In User              |\n",
        "| 44   | Last System Scan                 |\n",
        "| 88   | Manufacturer                     |\n",
        "| 77   | Media performance Class          |\n",
        "| 76   | MEID                             |\n",
        "| 27   | Notes                            |\n",
        "| 8    | Network Operator                 |\n",
        "| 29   | Network Type                     |\n",
        "| 37   | OS Build Number                  |\n",
        "| 12   | OS Version                       |\n",
        "| 17   | Phone Number                     |\n",
        "| 50   | Platform Integrity               |\n",
        "| 1    | Platform/Model                   |\n",
        "| 28   | Polling Mechanism                |\n",
        "| 69   | Processor                        |\n",
        "| 19   | Device Privilege Status          |\n",
        "| 41   | Security Path Date               |\n",
        "| 18   | Serial Number                    |\n",
        "| 32   | Sim serial Number(ICCID)         |\n",
        "| 2    | Status                           |\n",
        "| 25   | Supervised                       |\n",
        "| 75   | SureDefence Version              |\n",
        "| 14   | SureFox Version                  |\n",
        "| 36   | SureLock Settings Identifier     |\n",
        "| 13   | SureLock Version                 |\n",
        "| 15   | SureVideo Version                |\n",
        "| 24   | Battery Temperature(?)           |\n",
        "| 45   | Threats Count                    |\n",
        "| 51   | Threat Protection                |\n",
        "| 53   | Unknown Source Apps              |\n",
        "| 34   | USB Status                       |\n",
        "| 52   | USB Debugging                    |\n",
        "| 46   | Wi-Fi Hotspot Status             |\n",
        "| 56   | WiFi SSID                        |\n",
        "| 74   | WiFi Mac Address                 |\n",
        "| 68   | WiFi Signal Strength(%)          |\n",
        "| 70   | WiFi Signal Strength(dBm)        |\n",
        "| 85   | Latitude                         |\n",
        "| 86   | Longitude                        |\n",
        "| 87   | Address                          |\n",
        "\n",
        "\n",
        "</details>\n"
      ],
      "metadata": {
        "id": "Tk2gZoJVmAGv"
      }
    },
    {
      "cell_type": "markdown",
      "source": [
        "**API to create Device grid Column Set**\n",
        "\n",
        "This api allows you to create Device Grid Column based on specific sets of Grid column IDs and Users assigned these device grid column set will have the ability to perform actions corresponding to the provided Grid Column Ids."
      ],
      "metadata": {
        "id": "Dn2pDEARmHqg"
      }
    },
    {
      "cell_type": "markdown",
      "source": [
        "Request Body Schema\n",
        "\n",
        "| Key                 | Data Type | Description                                |\n",
        "|---------------------|-----------|--------------------------------------------|\n",
        "| TemplateName        | String    | Name of the grid template.                 |\n",
        "| TemplateDescription | String    | Description of the grid template.          |\n",
        "| DataTemplate        | List of Integer    | Set of grid column ids |\n"
      ],
      "metadata": {
        "id": "oIRyv-m_uJIp"
      }
    },
    {
      "cell_type": "code",
      "source": [
        "Grid_template_name = \"Create_DeviceGridColumnSet_8\"               #Name of Grid Template\n",
        "Grid_template_description = \"Create_DeviceGridColumnSet_8\"          #Descriptions of Grid Template\n",
        "Grid_data_template = \"[ 11,3]\"\n",
        "# Grid_data_template contains IDs for specific Column\n",
        "# To add IDs, refer to the descriptions and include the corresponding values.\n",
        "\n",
        "# Construct the request body\n",
        "Body = {\n",
        "    \"TemplateName\": Grid_template_name,\n",
        "    \"TemplateDescription\": Grid_template_description,\n",
        "    \"DataTemplate\": Grid_data_template\n",
        "}\n",
        "\n",
        "# Send POST request\n",
        "response = requests.post(url + \"devicegridcolumn/\", auth=Credentials, json=Body, headers=headers)\n",
        "\n",
        "# Print the response\n",
        "print(json.dumps(json.loads(response.text), indent=4))\n",
        "\n",
        "response_data = response.json()\n",
        "for template in response_data:\n",
        "    if template[\"TemplateName\"] == Grid_template_name and template[\"TemplateDescription\"]==Grid_template_description and template[\"DataTemplate\"]==Grid_data_template:\n",
        "        DeviceGridTemplateID = template[\"TemplateId\"]\n",
        "\n",
        "print(DeviceGridTemplateID)\n"
      ],
      "metadata": {
        "id": "4BVj141bl-5b"
      },
      "execution_count": null,
      "outputs": []
    },
    {
      "cell_type": "markdown",
      "source": [
        "##Create User"
      ],
      "metadata": {
        "id": "585vRpmBmnO-"
      }
    },
    {
      "cell_type": "markdown",
      "source": [
        "**API to create Users**\n",
        "\n",
        "This api allows you to create users with assigned variables such as GroupTemplateID, JobsTemplateId, RoleTemplateID, and DeviceGridTemplateID, which are predefined in their respective sections.Users will be limited to actions granted by the GroupTemplateID,JobsTemplateId,RoleTemplateID and DeviceGridTemplateID"
      ],
      "metadata": {
        "id": "vN6-Vg5zms0d"
      }
    },
    {
      "cell_type": "markdown",
      "source": [
        "Request Body Schema\n",
        "\n",
        "| Parameter                     | Data Type | Description                                        |\n",
        "|-------------------------|-----------|----------------------------------------------------|\n",
        "| Password                | String    | Base64 encoded password                          |\n",
        "| UserData                | Object    | User data including ID, name, email, and HideParentIfChildNotAllowed   |\n",
        "| FeaturesTemplateId      | String        | The ID of the Role template to assign to the user         |\n",
        "| GroupsTemplateId        | String       | The ID of the Device group set to assign to the user           |\n",
        "| JobsTemplateId          | String       | The ID of the Jobs/Profiles folder to assign to the user    |\n",
        "| Devicegridcolumntemplate| String       | The ID of the Device grid column set to assign to the user   |\n"
      ],
      "metadata": {
        "id": "aQPGE_HsurZb"
      }
    },
    {
      "cell_type": "code",
      "source": [
        "user_data = {\n",
        "    \"UserID\": \"Newuser17\",\n",
        "    \"FirstName\": \"Newuser17\",\n",
        "    \"LastName\": \"3\",\n",
        "    \"Email\": \"Newuser4@getnada.com\",\n",
        "    \"HideParentIfChildNotAllowed\": True\n",
        "}\n",
        "#UserID:Enter the user name, FirstName: Enter first name of user, LastName: Enter the last name of user, Email:Enter the email\n",
        "\n",
        "password = \"Test@123\"  #Enter the password\n",
        "passwordEncoded = base64.b64encode(password.encode()).decode()  # Base64 encoded password\n",
        "features_template_id = \"673840CF-78D7-40B9-811E-0282F10B7494\"                           #features_template_id:Role template id\n",
        "groups_template_id = \"945174F1-8ED0-49FE-BCC5-8C355508E2D1\"                           #groups_template_id: Device group set id\n",
        "jobs_template_id = \"632C071D-0528-40C9-8489-C594EFDC86A7\"                               #jobs_template_id: Jobs/Profiles folder set id\n",
        "device_grid_column_template = \"AE111F15-E5B0-411C-B277-2B7516C110AA\"              #device_grid_column_template: Device grid column set id\n",
        "\n",
        "#request body\n",
        "Body = {\n",
        "    \"Password\": passwordEncoded,\n",
        "    \"UserData\": user_data,\n",
        "    \"FeaturesTemplateId\": features_template_id,\n",
        "    \"GroupsTemplateId\": groups_template_id,\n",
        "    \"JobsTemplateId\": jobs_template_id,\n",
        "    \"Devicegridcolumntemplate\": device_grid_column_template\n",
        "}\n",
        "\n",
        "# Send POST request\n",
        "response = requests.post(url + \"user\", auth=Credentials, json=Body, headers=headers)\n",
        "\n",
        "# Print the response\n",
        "print(json.dumps(json.loads(response.text), indent=4))\n"
      ],
      "metadata": {
        "id": "1wxSTd1pmrgg"
      },
      "execution_count": null,
      "outputs": []
    },
    {
      "cell_type": "markdown",
      "source": [
        "##Create File Manager Access Template"
      ],
      "metadata": {
        "id": "-Ag50NxDZs6L"
      }
    },
    {
      "cell_type": "markdown",
      "source": [
        "**API to Create File Manager Access Template**\n",
        "\n",
        "\n",
        "This API allows you to create a template-based access system for file management. The parameters include TemplateName (the name of the template), TemplateDescription (a brief description of the template), FolderPath (the path to the folder), TemplateId (the unique identifier for the template), and IsCloned (a flag indicating whether the template is a clone of an existing one)."
      ],
      "metadata": {
        "id": "M5aAAX2DZ9BT"
      }
    },
    {
      "cell_type": "markdown",
      "source": [
        "Request Body Schema\n",
        "\n",
        "| Parameter                | Data Type | Description                                |\n",
        "|---------------------|-----------|--------------------------------------------|\n",
        "| TemplateName        | String    | Name of the File Manager Access template.                 |\n",
        "| TemplateDescription | String    | A brief description of the File Manager Access template.          |\n",
        "| FolderPath        | Comma seperated strings    | Folder paths to which access is to be granted.\n",
        "| TemplateId      | String        | The unique ID of the File Manager Access template assigned to the user.\n",
        "| IsCloned         | boolean      | A flag indicating whether the template is a clone of an existing one.\n"
      ],
      "metadata": {
        "id": "R1etvPpQabuP"
      }
    },
    {
      "cell_type": "code",
      "source": [
        "Template_name = \"licensed_india63\"           # Name of the File Manager Access template.\n",
        "Template_description = \"licensed_india363\"       # A brief description of the File Manager Access template.\n",
        "Folder_Path = \"/storage/emulated/0/,storage/emulated/0/e\" # Folder paths to which access is to be granted.\n",
        "Template_Id = \"57681eda-e63f-4f2a-b1f0-ce44ea6a1099\"       # The unique ID of the File Manager Access template assigned to the user.\n",
        "IsCloned = False                                           # A flag indicating whether the template is a clone of an existing one.\n",
        "\n",
        "#request body\n",
        "Body = {\n",
        "    \"TemplateId\":Template_Id,\n",
        "    \"TemplateName\":Template_name,\n",
        "    \"FolderPath\":Folder_Path,\n",
        "    \"TemplateDescription\":Template_description,\n",
        "    \"IsCloned\":IsCloned\n",
        "    }\n",
        "\n",
        "# Send POST request\n",
        "response = requests.post(url + \"FolderAccessTemplate/saveFolderTemplateData\", auth=Credentials, json=Body, headers=headers)\n",
        "\n",
        "# Print the response\n",
        "print(json.dumps(json.loads(response.text), indent=4))\n"
      ],
      "metadata": {
        "id": "xuHtWZPKcik_"
      },
      "execution_count": null,
      "outputs": []
    }
  ]
}