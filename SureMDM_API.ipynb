{
  "nbformat": 4,
  "nbformat_minor": 0,
  "metadata": {
    "colab": {
      "provenance": [],
      "toc_visible": true
    },
    "kernelspec": {
      "name": "python3",
      "display_name": "Python 3"
    },
    "language_info": {
      "name": "python"
    }
  },
  "cells": [
    {
      "cell_type": "markdown",
      "source": [
        "**Setup pre-requisites for making API calls to SureMDM**"
      ],
      "metadata": {
        "id": "S6lVgQvTy7yQ"
      }
    },
    {
      "cell_type": "code",
      "execution_count": null,
      "metadata": {
        "id": "RF11jxakvjGg"
      },
      "outputs": [],
      "source": [
        "import requests\n",
        "import json\n",
        "import base64\n",
        "import os\n",
        "\n",
        "#SureMDM API URL of your account. Replace this with your account URL\n",
        "url = \"https://your-domain.suremdm.io/api/\"\n",
        "#Add headers\n",
        "headers = {\n",
        "    #Api-Key header, Replace with your API KEY\n",
        "    'ApiKey': \"account-api-key-here\",\n",
        "    #Set content type\n",
        "    'Content-Type': \"application/json\",\n",
        "    }\n",
        "#Basic authentication credentials\n",
        "Credentials=(\"username\",\"password\")  #Replace with your username and password"
      ]
    },
    {
      "cell_type": "markdown",
      "source": [
        "# Account Details"
      ],
      "metadata": {
        "id": "9w0sMs7doXGz"
      }
    },
    {
      "cell_type": "markdown",
      "source": [
        "**API Sample to Get My MDM Account Details**"
      ],
      "metadata": {
        "id": "cHkqGfSjxSdh"
      }
    },
    {
      "cell_type": "code",
      "source": [
        "#Get Account details\n",
        "response = requests.get(url+\"account\",auth=Credentials,headers=headers)\n",
        "print(json.dumps(json.loads(response.text), indent=4))"
      ],
      "metadata": {
        "id": "glmZ0puLvtqM"
      },
      "execution_count": null,
      "outputs": []
    },
    {
      "cell_type": "markdown",
      "source": [
        "# Jobs\n",
        "\n"
      ],
      "metadata": {
        "id": "_nyd6GCNolkx"
      }
    },
    {
      "cell_type": "markdown",
      "source": [
        "## Get jobs"
      ],
      "metadata": {
        "id": "56MiLrvlrtem"
      }
    },
    {
      "cell_type": "markdown",
      "source": [
        "**API Sample to get Job List in my account**"
      ],
      "metadata": {
        "id": "pKQSQi9YxZUm"
      }
    },
    {
      "cell_type": "code",
      "source": [
        "#Query parameters\n",
        "params={\"FolderId\":\"\"}\n",
        "#Send request\n",
        "response = requests.get(url+\"job\",auth=Credentials,params=params,headers=headers)\n",
        "obj = json.loads(response.text)\n",
        "print(json.dumps(json.loads(response.text), indent=4))\n"
      ],
      "metadata": {
        "id": "zQW3KDhDxfIE"
      },
      "execution_count": null,
      "outputs": []
    },
    {
      "cell_type": "markdown",
      "source": [
        "## Search job folders / Advance search on job grid\n"
      ],
      "metadata": {
        "id": "vG2mUxW9FX2j"
      }
    },
    {
      "cell_type": "markdown",
      "source": [
        "**API Sample to get all job folders / perform advance search on jobs in my account**"
      ],
      "metadata": {
        "id": "jBe_PIwaFgpQ"
      }
    },
    {
      "cell_type": "code",
      "source": [
        "Body=r\"\"\"{\"FolderId\":\"\",\n",
        "\"GroupId\":\"-1\",\n",
        "\"SortColumn\":\"LastModified\",\n",
        "\"SortOrder\":\"desc\",\n",
        "\"Limit\":50,\n",
        "\"Offset\":0,\n",
        "\"SearchColumns\":[\"Type\"],\n",
        "\"AdanceSearch\":true,\n",
        "\"AdvSearchValue\":[\"folder\"]}\"\"\"\n",
        "#Send request\n",
        "response = requests.post(url+\"job/advancesearch\",auth=Credentials,data=Body,headers=headers)\n",
        "obj = json.loads(response.text)\n",
        "print(json.dumps(json.loads(response.text), indent=4))"
      ],
      "metadata": {
        "id": "ZYQtTODWF5Vr"
      },
      "execution_count": null,
      "outputs": []
    },
    {
      "cell_type": "markdown",
      "source": [
        "**API Sample to get all selective jobs / job folders in my account based on search value**\n",
        "This api allows us to do the selective search based upon the attributes provided by the user. The feilds which defines this search are SearchColumns and AdvSearchValue.\n",
        "AdvSearchValue supports CSV string too\n",
        "\n",
        "**Note** : The index of search value and corresponding search columns should match\n",
        "The search columns and thier description\n",
        "\n",
        "*   Type - This defines the type of the object to the searched. It'll be a folder\n",
        "*   Name - This defines the name of the object.\n",
        "\n",
        "*   JobFolderPath - This defines the job location where it has been placed\n",
        "\n",
        "\n",
        "\n",
        "\n",
        "\n",
        "\n",
        "\n",
        "\n"
      ],
      "metadata": {
        "id": "jXr31tYKF_HN"
      }
    },
    {
      "cell_type": "code",
      "source": [
        "Body=r\"\"\"{\"FolderId\":\"\",\n",
        "\"GroupId\":\"-1\",\n",
        "\"SortColumn\":\"LastModified\",\n",
        "\"SortOrder\":\"desc\",\n",
        "\"Limit\":50,\n",
        "\"Offset\":0,\n",
        "\"SearchColumns\":[\"Type\", \"Name\"],\n",
        "\"AdanceSearch\":true,\n",
        "\"AdvSearchValue\":[\"folder\", \"42GEARS\"]}\"\"\"\n",
        "#Send request\n",
        "response = requests.post(url+\"job/advancesearch\",auth=Credentials,data=Body,headers=headers)\n",
        "obj = json.loads(response.text)\n",
        "print(json.dumps(json.loads(response.text), indent=4))"
      ],
      "metadata": {
        "id": "AbnTFoCXGI52"
      },
      "execution_count": null,
      "outputs": []
    },
    {
      "cell_type": "markdown",
      "source": [
        "## Create Job\n"
      ],
      "metadata": {
        "id": "cXe-Sg96q6ta"
      }
    },
    {
      "cell_type": "markdown",
      "source": [
        "**API Sample to create jobs**\n",
        "\n",
        "for more info: [API Doc](https://developer.42gears.com/suremdm/api/v1/#tag/JobsProfiles/paths/~1job/post)\n"
      ],
      "metadata": {
        "id": "C86abP_B86-1"
      }
    },
    {
      "cell_type": "code",
      "source": [
        "Payload = \"{\\\"Subject\\\":\\\"Greetings!\\\",\\\"Body\\\":\\\"HappyBirthday!\\\",\\\"ReadNotification\\\":false,\\\"ForceRead\\\":true,\\\"EnableBuzz\\\":true,\\\"BuzzInterval\\\":\\\"12\\\",\\\"CloseDurationEnable\\\":true,\\\"Interval\\\":\\\"12\\\",\\\"RichTextBody\\\":\\\"\\\",\\\"RichTextHtml\\\":\\\"\\\"}\"\n",
        "base64PayLoad = base64.b64encode(bytes(Payload, 'utf-8')).decode('ascii')\n",
        "Body = \"{\\\"FolderId\\\":null,\\\"JobName\\\":\\\"Text Message Job\\\",\\\"JobType\\\":\\\"text_message\\\",\\\"Platform\\\":\\\"android\\\",\\\"PayLoad\\\":[\\\"\"+ base64PayLoad +\"\\\"]}\"\n",
        "\n",
        "#Send request\n",
        "response = requests.post(url+\"job\",auth=Credentials,data=Body,headers=headers)\n",
        "\n",
        "#Api returns JobID and subjobID in CSV format. (JobID,SubjobID)\n",
        "print(response.text)\n",
        "jobId_text = response.text\n",
        "# returns jobid"
      ],
      "metadata": {
        "id": "e7x5iqqiswGu"
      },
      "execution_count": null,
      "outputs": []
    },
    {
      "cell_type": "markdown",
      "source": [
        "### Create Install Job/File Transfer Job\n",
        "Creating these jobs includes 4 steps as follows.\n"
      ],
      "metadata": {
        "id": "HruXC2t-sITF"
      }
    },
    {
      "cell_type": "code",
      "source": [
        "#Step 1: create jobid\n",
        "Payload = \"{ \\\"LocalPath\\\":\\\"vk3.apk\\\", \\\"DevicePath\\\":\\\"\\/sdcard\\/\\\", \\\"Install\\\":true,  \\\"UseBasicAuthentication\\\":false,  \\\"IsHttpUrl\\\":false,  \\\"HttpUserName\\\":\\\"\\\", \\\"HttpPassword\\\":\\\"\\\", \\\"IsSilent\\\":false,  \\\"ExecutePath\\\":\\\"\\\",  \\\"CurrentUser\\\":false, \\\"JobNameXML\\\":\\\"vk3.apk\\\",  \\\"FromAppStore\\\":false }\"\n",
        "base64PayLoad = base64.b64encode(bytes(Payload, 'utf-8')).decode('ascii')\n",
        "\n",
        "#Multiple base64 payloads can be added in PayLoad array of below object to create job that installs multiple apps at once.\n",
        "#Subsequent steps need to be repeated for each payload\n",
        "Body = \"{  \\\"FolderId\\\": null,  \\\"JobName\\\": \\\"Install Job astro2\\\",  \\\"JobType\\\": \\\"Install\\\",  \\\"Platform\\\": \\\"android\\\",  \\\"MinimumVersion\\\": \\\"0\\\",  \\\"VersionCompare\\\": \\\"2\\\",  \\\"PayLoad\\\": [ \\\"\"+ base64PayLoad +\"\\\"  ]}\"\n",
        "\n",
        "#Send request\n",
        "response = requests.post(url+\"job\",auth=Credentials,data=Body,headers=headers)\n",
        "\n",
        "#Api returns JobID and subjobID in CSV format. (JobID,SubjobID)\n",
        "print(response.text)\n",
        "Ids = response.text.split(\",\")\n",
        "jobId = Ids[0]\n",
        "subJobId = Ids[1]"
      ],
      "metadata": {
        "id": "VHKyzjM29FYa"
      },
      "execution_count": null,
      "outputs": []
    },
    {
      "cell_type": "code",
      "source": [
        "#Step 2: get presigned S3 url to upload the file\n",
        "\n",
        "#upload this file first if using Colab. Or your local file path\n",
        "file_path = \"/content/sample_data/vk3.apk\"\n",
        "filesize = os.path.getsize(file_path)\n",
        "Body = \"{\\\"JobID\\\":\\\"\"+ jobId +\"\\\",\\\"SubJobID\\\":\\\"\"+ subJobId +\"\\\",\\\"FileName\\\":\\\"vk3.apk\\\",\\\"FileSize\\\":\"+ str(filesize) +\"}\"\n",
        "print(Body)\n",
        "#Send request\n",
        "response = requests.post(url+\"upload/UploadFile\",auth=Credentials,data=Body,headers=headers)\n",
        "print(response.text)\n",
        "PreSignedS3URL = response.text"
      ],
      "metadata": {
        "id": "H42qilggXPVL"
      },
      "execution_count": null,
      "outputs": []
    },
    {
      "cell_type": "code",
      "source": [
        "#Step 3: Uploadfile to S3 url\n",
        "#upload this file first if using Colab. Or your local file path\n",
        "#files = { 'file': open(file_path, 'rb')}\n",
        "#response = requests.put(PreSignedS3URL, data=\"\", files=files)\n",
        "#print(response.status_code)\n",
        "# status code 200 means upload successful\n",
        "\n",
        "# Open the file and get its contents\n",
        "with open(file_path, \"rb\") as f:\n",
        "    file_contents = f.read()\n",
        "\n",
        "# Set the headers for the PUT request\n",
        "uploadHeaders = {\n",
        "    \"Content-Type\": \"application/octet-stream\",\n",
        "    \"Content-Length\": str(len(file_contents))\n",
        "}\n",
        "\n",
        "# Send the PUT request with the file contents as the payload\n",
        "response = requests.put(PreSignedS3URL, data=file_contents, headers=uploadHeaders)\n",
        "print(response.status_code)"
      ],
      "metadata": {
        "id": "xXNcMkEFieYk"
      },
      "execution_count": null,
      "outputs": []
    },
    {
      "cell_type": "code",
      "source": [
        "# Check updated job size after upload is successful\n",
        "response = requests.get(url+\"job/\"+ jobId +\"/Size\",auth=Credentials,headers=headers)\n",
        "print(response.text)\n",
        "#returns final size of the job"
      ],
      "metadata": {
        "id": "IbMgJaBZfLpG"
      },
      "execution_count": null,
      "outputs": []
    },
    {
      "cell_type": "markdown",
      "source": [
        "## Modify Job\n",
        "\n"
      ],
      "metadata": {
        "id": "ahDYh-5FuRCk"
      }
    },
    {
      "cell_type": "markdown",
      "source": [
        "**API sample to modify job**"
      ],
      "metadata": {
        "id": "wr-0IgKDwJU-"
      }
    },
    {
      "cell_type": "code",
      "source": [
        "Payload = \"{\\\"Subject\\\":\\\"Greetings!\\\",\\\"Body\\\":\\\"HappyBirthday To You!\\\",\\\"ReadNotification\\\":false,\\\"ForceRead\\\":true,\\\"EnableBuzz\\\":true,\\\"BuzzInterval\\\":\\\"12\\\",\\\"CloseDurationEnable\\\":true,\\\"Interval\\\":\\\"12\\\",\\\"RichTextBody\\\":\\\"\\\",\\\"RichTextHtml\\\":\\\"\\\"}\"\n",
        "base64PayLoad = base64.b64encode(bytes(Payload, 'utf-8')).decode('ascii')\n",
        "Body = \"{\\\"JobName\\\":\\\"TextMessageJobedited\\\",\\\"JobType\\\":\\\"TEXT_MESSAGE\\\",\\\"JobID\\\":\\\"\"+ jobId_text +\"\\\",\\\"Platform\\\":\\\"ANY\\\",\\\"FolderId\\\":\\\"null\\\",\\\"PayLoad\\\":[\\\"\"+ base64PayLoad +\"\\\"]}\"\n",
        "\n",
        "#Send request\n",
        "response = requests.put(url+\"job\",auth=Credentials,data=Body,headers=headers)\n",
        "\n",
        "#Api returns JobID and subjobID in CSV format. (JobID,SubjobID)\n",
        "print(response.text)\n",
        "jobId_text = response.text"
      ],
      "metadata": {
        "id": "LYAn7YX8wQ8K"
      },
      "execution_count": null,
      "outputs": []
    },
    {
      "cell_type": "markdown",
      "source": [
        "### Modify Install/File Transfer Job\n",
        "\n",
        "Steps are same as creating Install/File transfer jobs.\n",
        "Only first steps is different. We have to use jobid of the job which we wish to edit in request body and HTTP method will be PUT."
      ],
      "metadata": {
        "id": "Zqy6o9HR0zYO"
      }
    },
    {
      "cell_type": "code",
      "source": [
        "#Step 1: create jobid\n",
        "Payload = \"{ \\\"LocalPath\\\":\\\"vk3.apk\\\", \\\"DevicePath\\\":\\\"\\/sdcard\\/\\\", \\\"Install\\\":true,  \\\"UseBasicAuthentication\\\":false,  \\\"IsHttpUrl\\\":false,  \\\"HttpUserName\\\":\\\"\\\", \\\"HttpPassword\\\":\\\"\\\", \\\"IsSilent\\\":false,  \\\"ExecutePath\\\":\\\"\\\",  \\\"CurrentUser\\\":false, \\\"JobNameXML\\\":\\\"vk3.apk\\\",  \\\"FromAppStore\\\":false }\"\n",
        "base64PayLoad = base64.b64encode(bytes(Payload, 'utf-8')).decode('ascii')\n",
        "\n",
        "#Multiple base64 payloads can be added in PayLoad array of below object to create job that installs multiple apps at once.\n",
        "#Subsequent steps need to be repeated for each payload\n",
        "Body = \"{ \\\"JobID\\\":\\\"\"+ jobId +\"\\\" ,  \\\"FolderId\\\": null,  \\\"JobName\\\": \\\"Install Job Modified\\\",  \\\"JobType\\\": \\\"Install\\\",  \\\"Platform\\\": \\\"android\\\",  \\\"MinimumVersion\\\": \\\"0\\\",  \\\"VersionCompare\\\": \\\"2\\\",  \\\"PayLoad\\\": [ \\\"\"+ base64PayLoad +\"\\\"  ]}\"\n",
        "\n",
        "#Send request\n",
        "response = requests.put(url+\"job\",auth=Credentials,data=Body,headers=headers)\n",
        "\n",
        "#Api returns JobID and subjobID in CSV format. (JobID,SubjobID)\n",
        "print(response.text)\n",
        "Ids = response.text.split(\",\")\n",
        "jobId = Ids[0]\n",
        "subJobId = Ids[1]"
      ],
      "metadata": {
        "id": "fyKWz6vR1GgG"
      },
      "execution_count": null,
      "outputs": []
    },
    {
      "cell_type": "code",
      "source": [
        "#Step 2: get presigned S3 url to upload the file\n",
        "\n",
        "\n",
        "filesize = os.path.getsize(file_path)\n",
        "Body = \"{\\\"JobID\\\":\\\"\"+ jobId +\"\\\",\\\"SubJobID\\\":\\\"\"+ subJobId +\"\\\",\\\"FileName\\\":\\\"vk3.apk\\\",\\\"FileSize\\\":\"+ str(filesize) +\"}\"\n",
        "print(Body)\n",
        "#Send request\n",
        "response = requests.post(url+\"upload/UploadFile\",auth=Credentials,data=Body,headers=headers)\n",
        "print(response.text)\n",
        "PreSignedS3URL = response.text"
      ],
      "metadata": {
        "id": "GLmx7zHx1LrN"
      },
      "execution_count": null,
      "outputs": []
    },
    {
      "cell_type": "code",
      "source": [
        "#Step 3: Uploadfile to S3 url\n",
        "# files = { 'file': open(\"/content/sample_data/nixagent.apk\", 'rb')}\n",
        "# response = requests.put(PreSignedS3URL, data=\"\", files=files)\n",
        "# print(response.status_code)\n",
        "# status code 200 means upload successful\n",
        "\n",
        "# Open the file and get its contents\n",
        "with open(file_path, \"rb\") as f:\n",
        "    file_contents = f.read()\n",
        "\n",
        "# Set the headers for the PUT request\n",
        "uploadHeaders = {\n",
        "    \"Content-Type\": \"application/octet-stream\",\n",
        "    \"Content-Length\": str(len(file_contents))\n",
        "}\n",
        "\n",
        "# Send the PUT request with the file contents as the payload\n",
        "response = requests.put(PreSignedS3URL, data=file_contents, headers=uploadHeaders)\n",
        "print(response.status_code)"
      ],
      "metadata": {
        "id": "zt0j1_0H1NpX"
      },
      "execution_count": null,
      "outputs": []
    },
    {
      "cell_type": "code",
      "source": [
        "# Check updated job size after upload is successful\n",
        "response = requests.get(url+\"job/\"+ jobId +\"/Size\",auth=Credentials,headers=headers)\n",
        "print(response.text)\n",
        "#returns final size of the job"
      ],
      "metadata": {
        "id": "G-jF8MKP1Sjb"
      },
      "execution_count": null,
      "outputs": []
    },
    {
      "cell_type": "markdown",
      "source": [
        "## Delete job"
      ],
      "metadata": {
        "id": "82USbFvL4AC2"
      }
    },
    {
      "cell_type": "markdown",
      "source": [
        "**API sample to delete jobs**"
      ],
      "metadata": {
        "id": "NpByx_kQ5e-d"
      }
    },
    {
      "cell_type": "code",
      "source": [
        "Body = \"{\\\"FolderId\\\":null,\\\"JobID\\\":\\\"[\\\\\\\"\"+ jobId +\"\\\\\\\"]\\\",\\\"JobType\\\":\\\"JOBS\\\"}\"\n",
        "\n",
        "#Send request\n",
        "response = requests.delete(url+\"job\",auth=Credentials,data=Body,headers=headers)\n",
        "print(response.text)"
      ],
      "metadata": {
        "id": "mQAuz9jk4ISC"
      },
      "execution_count": null,
      "outputs": []
    },
    {
      "cell_type": "markdown",
      "source": [
        "# Device\n",
        "\n",
        "\n",
        "for more info: [API Doc](https://developer.42gears.com/suremdm/api/v1/#tag/Device)"
      ],
      "metadata": {
        "id": "8AQvjH5656OX"
      }
    },
    {
      "cell_type": "markdown",
      "source": [
        "##List Devices"
      ],
      "metadata": {
        "id": "vPKBiosWENGO"
      }
    },
    {
      "cell_type": "markdown",
      "source": [
        "**API to List the Devices**\n",
        "\n",
        "This api allows you to list all the devices on the basis of ID.\n",
        "\n",
        "| ID      | Description               |\n",
        "| -------          | -------------             |\n",
        "| \"AllDevices\"     | To list all the devices present in console   |\n",
        "| \"null\"           | To list all the devices from home group     |\n",
        "|  ID of specific group or the tag | To list all the devices from specific group or tag. Eg:- \"f9f40a04-033a-499c-9339-9cd6881e4c5c\"\n",
        "\n",
        "Note:- When tag ID provided in **ID** field, then **IsTag** must be true."
      ],
      "metadata": {
        "id": "AZJTko7rE3i7"
      }
    },
    {
      "cell_type": "markdown",
      "source": [
        "<details>\n",
        "<summary><b style=\"font-size: 18px;\">Click here to get more information regarding each field</b></summary>\n",
        "\n",
        "| Permission ID              | Description                                          |\n",
        "| -------------------------- | ---------------------------------------------------- |\n",
        "| AdanceSearch               | Enable advanced search (true/false).Make it true in case of Advanced search otherwise keep it false.                 |\n",
        "| AdvSearchJobID             | Advanced search job ID.                              |\n",
        "| AdvSearchValue             | Values for advanced search.                           |\n",
        "| SearchColumns              | Columns to be searched.                              |\n",
        "| EnableDeviceGlobalSearch   | Enable global search for devices (true/false).       |\n",
        "| ID                         | Group ID/Tag ID for filtering devices.                      |\n",
        "| IsSearch                   | Indicate if it's a search operation (true/false).     |\n",
        "| IsTag                      | Indicate if tag use for filteration (true/false). If tag ID used in ID field then true otherwise false   |\n",
        "| Limit                      | Maximum number of results to retrieve.               |\n",
        "| Offset                     | Number of results to skip before retrieving.         |\n",
        "| SearchValue                | Search value for device search.                      |\n",
        "| SortColumn                 | Column for sorting results.Sort the result on the basis of this value( \"LastTimeStamp\", \"DeviceName\" , \"DeviceModelName\", \"PlatformType\", \"Battery\", \"AgentVersion\", \"DeviceTimeZone\", \"DeviceRegistered\", \"DataUsage\")                          |\n",
        "| SortOrder                  | Sort order (asc/desc) for sorting results.           |\n",
        "| Columns                    | Columns to include in the response.                  |\n",
        "| IsIncludedBlackListed      | Include blacklisted devices (true/false).            |\n",
        "\n",
        "</details>\n"
      ],
      "metadata": {
        "id": "qsuNDVb0hPzV"
      }
    },
    {
      "cell_type": "code",
      "source": [
        "ID = \"null\"      #Enter the ID\n",
        "Body = f'''{{\n",
        "    \"AdanceSearch\": false,\n",
        "    \"AdvSearchJobID\": \"\",\n",
        "    \"AdvSearchValue\": [],\n",
        "    \"SearchColumns\": [],\n",
        "    \"EnableDeviceGlobalSearch\": false,\n",
        "    \"ID\":\"{ID}\",\n",
        "    \"IsSearch\": false,\n",
        "    \"IsTag\": false,\n",
        "    \"Limit\": 2,\n",
        "    \"Offset\": 0,\n",
        "    \"SearchValue\": \"\",\n",
        "    \"SortColumn\": \"DeviceName\",\n",
        "    \"SortOrder\": \"asc\",\n",
        "    \"Columns\": [\"DeviceName\",\"DeviceModelName\",\"ConnectionStatus\",\"AMTConnectionStatus\",\"LastTimeStamp\"],\n",
        "    \"IsIncludedBlackListed\": false\n",
        "}}'''\n",
        "\n",
        "#Limit:maximum number of results (rows) you want to receive in the response\n",
        "#Offset=0 =>start retrieving results from the beginning, Offset=10 =>skip the first 10 results and start retrieving results from the 11th one and so on\n",
        "\n",
        "\n",
        "#Send request\n",
        "response = requests.post(url+\"devicegrid\",auth=Credentials,data=Body,headers=headers)\n",
        "\n",
        "print(json.dumps(json.loads(response.text), indent=4))"
      ],
      "metadata": {
        "id": "PShFU-7zEo_D"
      },
      "execution_count": null,
      "outputs": []
    },
    {
      "cell_type": "markdown",
      "source": [
        "##Search Device (Basic Search)"
      ],
      "metadata": {
        "id": "x1VKcclA1WD4"
      }
    },
    {
      "cell_type": "markdown",
      "source": [
        "**API to Search the Devices**\n",
        "\n",
        "This API allows you to search all the devices based on ID and search value.\n",
        "\n",
        "| ID                             | Description                                              |\n",
        "| ------------------------------ | -------------------------------------------------------- |\n",
        "| \"AllDevices\"                   | To search the devices present in the console             |\n",
        "| \"null\"                         | To search the devices in the home group                  |\n",
        "| ID of a specific group or tag   | To search the devices in a specific group or tag. Eg:- \"f9f40a04-033a-499c-9339-9cd6881e4c5c\"\n",
        "\n",
        "| EnableDeviceGlobalSearch       | Description                                              |\n",
        "| ------------------------------ | -------------------------------------------------------- |\n",
        "| true                           | It will search among all the devices present in the console irrespective of ID.   |\n",
        "| false                          | It will search according to the ID provided               |\n"
      ],
      "metadata": {
        "id": "kEYwJz_Y4WyC"
      }
    },
    {
      "cell_type": "markdown",
      "source": [
        "<details>\n",
        "<summary><b style=\"font-size: 18px;\">Click here to get more information regarding each field</b></summary>\n",
        "\n",
        "| Permission ID              | Description                                          |\n",
        "| -------------------------- | ---------------------------------------------------- |\n",
        "| AdanceSearch               | Enable advanced search (true/false).                 |\n",
        "| AdvSearchJobID             | Advanced search job ID.                              |\n",
        "| AdvSearchValue             | Values for advanced search.                          |\n",
        "| SearchColumns              | Columns to be searched.                              |\n",
        "| EnableDeviceGlobalSearch   | Enable global search for devices (true/false).       |\n",
        "| ID                         | Group ID/Tag ID for filtering devices.                      |\n",
        "| IsSearch                   | Indicate if it's a search operation (true/false).If you want to search keep it true otherwise false.    |\n",
        "| IsTag                      | Indicate if tag use for filteration (true/false). If tag ID used in ID field then true otherwise false   |\n",
        "| Limit                      | Maximum number of results to retrieve.               |\n",
        "| Offset                     | Number of results to skip before retrieving.         |\n",
        "| SearchValue                | Search value for device search.                      |\n",
        "| SortColumn                 | Column for sorting results.Sort the result on the basis of this value( \"LastTimeStamp\", \"DeviceName\" , \"DeviceModelName\", \"PlatformType\", \"Battery\", \"AgentVersion\", \"DeviceTimeZone\", \"DeviceRegistered\", \"DataUsage\")                          |\n",
        "| SortOrder                  | Sort order (asc/desc) for sorting results.           |\n",
        "| Columns                    | Columns to include in the response.                  |\n",
        "| IsIncludedBlackListed      | Include blacklisted devices (true/false).            |\n",
        "\n",
        "</details>\n"
      ],
      "metadata": {
        "id": "gN_rixRX6Z5a"
      }
    },
    {
      "cell_type": "code",
      "source": [
        "ID = \"null\"   #Enter the ID\n",
        "SearchValue = \"Test\"     #Enter the value to be search\n",
        "Body = f'''{{\n",
        "    \"AdanceSearch\": false,\n",
        "    \"AdvSearchJobID\": \"\",\n",
        "    \"AdvSearchValue\": [],\n",
        "    \"SearchColumns\": [\"DeviceName\",\"DeviceModelName\",\"PlatformType\",\"Operator\",\"IMEI\",\"Notes\",\"DeviceUserName\",\"DeviceID\"],\n",
        "    \"EnableDeviceGlobalSearch\": false,\n",
        "    \"ID\":\"{ID}\",\n",
        "    \"IsSearch\": true,\n",
        "    \"IsTag\": false,\n",
        "    \"Limit\": 2,\n",
        "    \"Offset\": 0,\n",
        "    \"SearchValue\": \"{SearchValue}\",\n",
        "    \"SortColumn\": \"DeviceName\",\n",
        "    \"SortOrder\": \"asc\",\n",
        "    \"Columns\": [\"DeviceName\",\"DeviceModelName\",\"ConnectionStatus\",\"AMTConnectionStatus\",\"LastTimeStamp\"],\n",
        "    \"IsIncludedBlackListed\": false\n",
        "}}'''\n",
        "\n",
        "#Limit:maximum number of results (rows) you want to receive in the response\n",
        "#Offset=0 =>start retrieving results from the beginning, Offset=10 =>skip the first 10 results and start retrieving results from the 11th one and so on\n",
        "\n",
        "\n",
        "#Send request\n",
        "response = requests.post(url+\"devicegrid\",auth=Credentials,data=Body,headers=headers)\n",
        "\n",
        "print(json.dumps(json.loads(response.text), indent=4))"
      ],
      "metadata": {
        "id": "YAN3zXUu6HHi"
      },
      "execution_count": null,
      "outputs": []
    },
    {
      "cell_type": "markdown",
      "source": [
        "##Search Device (Advanced search)"
      ],
      "metadata": {
        "id": "qRlt6mLeHxhQ"
      }
    },
    {
      "cell_type": "markdown",
      "source": [
        "**API to Search the Devices**\n",
        "\n",
        "This API allows you to search all the devices based on ID, SearchColumns and AdvSearchValue.\n",
        "\n",
        "| ID                             | Description                                              |\n",
        "| ------------------------------ | -------------------------------------------------------- |\n",
        "| \"AllDevices\"                   | To search the devices present in the console             |\n",
        "| \"null\"                         | To search the devices in the home group                  |\n",
        "| ID of a specific group or tag   | To search the devices in a specific group or tag. Eg:- \"f9f40a04-033a-499c-9339-9cd6881e4c5c\"\n",
        "\n",
        "| EnableDeviceGlobalSearch       | Description                                              |\n",
        "| ------------------------------ | -------------------------------------------------------- |\n",
        "| true                           | It will search among all the devices present in the console irrespective of ID.   |\n",
        "| false                          | It will search according to the ID provided               |\n"
      ],
      "metadata": {
        "id": "G222CTU4Q4Uu"
      }
    },
    {
      "cell_type": "markdown",
      "source": [
        "<details>\n",
        "<summary><b style=\"font-size: 18px;\">Click here to get more information regarding each field</b></summary>\n",
        "\n",
        "| Permission ID              | Description                                          |\n",
        "| -------------------------- | ---------------------------------------------------- |\n",
        "| AdanceSearch               | Enable advanced search (true/false).                 |\n",
        "| AdvSearchJobID             | Advanced search job ID.                              |\n",
        "| AdvSearchValue             | Values for advanced search. Add value of respective column that is added in SearchColumns to be search. For eg. [\"1\",\"2\",\"Test\"]                          |\n",
        "| SearchColumns              | Columns to be searched. Add column to be search. value should be comma sepearted. For eg. [\"ConnectionStatus\",\"JobsFailed\",\"DeviceName\"]                             |\n",
        "| EnableDeviceGlobalSearch   | Enable global search for devices (true/false). Make it true if you want to search among all devices present in console irrespective of ID otherwise keep it false.|\n",
        "| ID                         | Group ID/Tag ID for filtering devices.                      |\n",
        "| IsSearch                   | Indicate if it's a search operation (true/false).     |\n",
        "| IsTag                      | Indicate if tag use for filteration (true/false). If tag ID used in ID field then true otherwise false   |\n",
        "| Limit                      | Maximum number of results to retrieve.               |\n",
        "| Offset                     | Number of results to skip before retrieving.         |\n",
        "| SearchValue                | Search value for device search.                      |\n",
        "| SortColumn                 | Column for sorting results.Sort the result on the basis of this value( \"LastTimeStamp\", \"DeviceName\" , \"DeviceModelName\", \"PlatformType\", \"Battery\", \"AgentVersion\", \"DeviceTimeZone\", \"DeviceRegistered\", \"DataUsage\")                          |\n",
        "| SortOrder                  | Sort order (asc/desc) for sorting results.           |\n",
        "| Columns                    | Columns to include in the response.                  |\n",
        "| IsIncludedBlackListed      | Include blacklisted devices (true/false).            |\n",
        "\n",
        "\n",
        "|  JobsFailed  |     Description    |\n",
        "|-------------|---------------------|\n",
        "|   \"0\"   |   Failed   |\n",
        "|   \"1\"   |   Success   |\n",
        "|   \"2\"   |   Pending   |\n",
        "|   \"3\"   |   Success   |\n",
        "\n",
        "\n",
        "|  ConnectionStatus  |     Description    |\n",
        "|-------------|---------------------|\n",
        "|   \"0\"   |   Offline   |\n",
        "|   \"1\"   |   Online   |\n",
        "\n",
        "\n",
        "</details>\n"
      ],
      "metadata": {
        "id": "tXUKRr1DRgEg"
      }
    },
    {
      "cell_type": "code",
      "source": [
        "ID = \"null\"   #Enter the ID\n",
        "Body = f'''{{\n",
        "    \"AdanceSearch\": true,\n",
        "    \"AdvSearchJobID\": \"\",\n",
        "    \"AdvSearchValue\": [\n",
        "        \"1\",\n",
        "        \"2\",\n",
        "        \"T\"\n",
        "    ],\n",
        "    \"SearchColumns\": [\n",
        "        \"ConnectionStatus\",\n",
        "        \"JobsFailed\",\n",
        "        \"DeviceName\"\n",
        "    ],\n",
        "    \"EnableDeviceGlobalSearch\": false,\n",
        "    \"ID\": \"{ID}\",\n",
        "    \"IsSearch\": true,\n",
        "    \"IsTag\": false,\n",
        "    \"Limit\": 1000,\n",
        "    \"Offset\": 0,\n",
        "    \"SearchValue\": \"\",\n",
        "    \"SortColumn\": \"ConnectionStatus\",\n",
        "    \"SortOrder\": \"desc\",\n",
        "    \"Columns\": [\n",
        "        \"DeviceName\",\n",
        "        \"DeviceModelName\",\n",
        "        \"ConnectionStatus\"\n",
        "    ],\n",
        "    \"IsIncludedBlackListed\": false,\n",
        "}}'''\n",
        "\n",
        "#Limit:maximum number of results (rows) you want to receive in the response\n",
        "#Offset=0 =>start retrieving results from the beginning, Offset=10 =>skip the first 10 results and start retrieving results from the 11th one and so on\n",
        "\n",
        "\n",
        "#Send request\n",
        "response = requests.post(url+\"devicegrid\",auth=Credentials,data=Body,headers=headers)\n",
        "\n",
        "print(json.dumps(json.loads(response.text), indent=4))"
      ],
      "metadata": {
        "id": "UEqqFZxDQ091"
      },
      "execution_count": null,
      "outputs": []
    },
    {
      "cell_type": "markdown",
      "source": [
        "##Apply Job On Device"
      ],
      "metadata": {
        "id": "M1t24DH0rp9O"
      }
    },
    {
      "cell_type": "markdown",
      "source": [
        "**API sample to apply job on the device**"
      ],
      "metadata": {
        "id": "BaRorfLnrwtM"
      }
    },
    {
      "cell_type": "code",
      "source": [
        "#Replace DeviceId and JobID with your values below\n",
        "Body = r\"\"\"{\n",
        "   \"DeviceIds\":[\n",
        "      \"8a56cb82-faae-4856-b66f-3218c28a8e2e\"\n",
        "   ],\n",
        "   \"JobId\":\"d04c0919-f475-4dbc-892f-63f892ab5031\",\n",
        "   \"DownloadType\":\"2\",\n",
        "   \"DeviceChargingState\":\"0\"\n",
        "}\"\"\"\n",
        "\n",
        "#Send request\n",
        "response = requests.post(url+\"jobassignment\",auth=Credentials,data=Body,headers=headers)\n",
        "\n",
        "print(response.text)\n",
        "jobId = response.text"
      ],
      "metadata": {
        "id": "2aNuh2dbr4rw"
      },
      "execution_count": null,
      "outputs": []
    },
    {
      "cell_type": "markdown",
      "source": [
        "##Delete Device(s)"
      ],
      "metadata": {
        "id": "fLziabHLsByW"
      }
    },
    {
      "cell_type": "markdown",
      "source": [
        "**API sample to delete device(s)**"
      ],
      "metadata": {
        "id": "degKKCFhsJsz"
      }
    },
    {
      "cell_type": "code",
      "source": [
        "# DeviceId=> Multiple DeviceIds can be passed and value can be comma seperated\n",
        "DeviceId= \"c16d54d2-0129-4d8e-926e-6a2f19c84b8f,79c2b437-5e7b-4f27-ad7a-49c8961a51bb\"\n",
        "deviceid_list = DeviceId.split(',')\n",
        "\n",
        "if deviceid_list is not None and len(deviceid_list) > 0:\n",
        "  DeviceCount = len(deviceid_list)\n",
        "  Body = f'''\n",
        "  {{\n",
        "      \"Action\": \"FORCEDELETE_DEVICE\",\n",
        "      \"DeviceId\": \"{DeviceId}\",\n",
        "      \"VerificationMsg\": \"delete-{DeviceCount}\"\n",
        "  }}\n",
        "  '''\n",
        "\n",
        "\n",
        "  #Send request\n",
        "  response = requests.put(url+\"device/delete\",auth=Credentials,data=Body,headers=headers)\n",
        "\n",
        "  if response.status_code == 200:\n",
        "    response_data = json.loads(response.text)\n",
        "    if response_data is not None and 'status' in response_data and response_data[\"status\"] :\n",
        "      print(\"Device(s) successfully deleted\")\n",
        "    else:\n",
        "      print(\"Device(s) could not be deleted\")"
      ],
      "metadata": {
        "id": "PiIUVZJdsTEo"
      },
      "execution_count": null,
      "outputs": []
    },
    {
      "cell_type": "markdown",
      "source": [
        "# Group\n"
      ],
      "metadata": {
        "id": "IY6hMS9kDtAM"
      }
    },
    {
      "cell_type": "markdown",
      "source": [
        "## List Groups\n",
        "\n",
        "**API sample to list all the groups**"
      ],
      "metadata": {
        "id": "38m7UHVcFZcH"
      }
    },
    {
      "cell_type": "code",
      "source": [
        "#Send request\n",
        "response = requests.get(url+\"group/1/getAll\",auth=Credentials,headers=headers)\n",
        "print(json.dumps(json.loads(response.text), indent=4))\n"
      ],
      "metadata": {
        "id": "wycT49OtDv-P"
      },
      "execution_count": null,
      "outputs": []
    },
    {
      "cell_type": "markdown",
      "source": [
        "## List Groups based on pagination and sort\n",
        "\n",
        "**API sample to list all the groups based on pagination and sort**\n",
        "\n",
        "This api allows to list all the groups with pagination and sort. The route of the endpoint is url/group/getAll/limit/offset/sortColumn/sortOrder\n",
        "\n",
        "The sort columns supported are : GroupID and GroupName"
      ],
      "metadata": {
        "id": "n_lLdoz3GaGk"
      }
    },
    {
      "cell_type": "code",
      "source": [
        "#Send request\n",
        "response = requests.get(url+\"group/getAll/10/0/GroupName/asc\",auth=Credentials,headers=headers)\n",
        "print(json.dumps(json.loads(response.text), indent=4))"
      ],
      "metadata": {
        "id": "FsGbW3e-GffT"
      },
      "execution_count": null,
      "outputs": []
    },
    {
      "cell_type": "code",
      "source": [
        "Body = r\"\"\"{\n",
        "    \"SearchValue\": [\n",
        "        \"!!proxy\"\n",
        "    ],\n",
        "    \"Column\": \"GroupName\"\n",
        "}\"\"\"\n",
        "\n",
        "#Send request\n",
        "response = requests.post(url+\"v2/Group/Search\",auth=Credentials,data=Body,headers=headers)\n",
        "print(json.dumps(json.loads(response.text), indent=4))"
      ],
      "metadata": {
        "id": "qNIhEd-eG4l1"
      },
      "execution_count": null,
      "outputs": []
    },
    {
      "cell_type": "markdown",
      "source": [
        "## Create Group\n",
        "**API sample to create a group**"
      ],
      "metadata": {
        "id": "4iBewXs4GHzs"
      }
    },
    {
      "cell_type": "code",
      "source": [
        "Body = r\"\"\"{\n",
        "   \"GroupID\":null,\n",
        "   \"GroupName\":\"colab group\"\n",
        "}\"\"\"\n",
        "#GroupID: ID of the parent group, null means HOME\n",
        "\n",
        "#Send request\n",
        "response = requests.post(url+\"group\",auth=Credentials,data=Body,headers=headers)\n",
        "\n",
        "print(response.text)\n",
        "GroupID = response.text\n",
        "# returns GroupID of the newly created group"
      ],
      "metadata": {
        "id": "6IbA1KtNGH_u"
      },
      "execution_count": null,
      "outputs": []
    },
    {
      "cell_type": "markdown",
      "source": [
        "## Apply Job On Group\n",
        "**API sample to apply job on particular group**\n",
        "\n",
        "For more info: [API Doc](https://developer.42gears.com/suremdm/api/v1/#tag/Group/paths/~1jobassignment~1group/post)"
      ],
      "metadata": {
        "id": "q7_O5PdZJT8q"
      }
    },
    {
      "cell_type": "code",
      "source": [
        "#Replace GroupID and JobID with your values below\n",
        "Body = r\"\"\"{\n",
        "   \"JobId\":\"d04c0919-f475-4dbc-892f-63f892ab5031\",\n",
        "   \"ServerScheduleTime\":null,\n",
        "   \"RecursiveScheduleTime\":0,\n",
        "   \"DownloadType\":\"2\",\n",
        "   \"GroupID\":\"8851b4d9-c409-4f4d-a3e2-d9a1a68f4079\"\n",
        "}\"\"\"\n",
        "\n",
        "#Send request\n",
        "response = requests.post(url+\"jobassignment/group/\",auth=Credentials,data=Body,headers=headers)\n",
        "\n",
        "print(response.text)"
      ],
      "metadata": {
        "id": "Udcus8rPJcWc"
      },
      "execution_count": null,
      "outputs": []
    },
    {
      "cell_type": "markdown",
      "source": [
        "## Get Default Jobs On Group\n"
      ],
      "metadata": {
        "id": "vdVBYOZB_XoD"
      }
    },
    {
      "cell_type": "code",
      "source": [
        "#Get default jobs for a group\n",
        "\n",
        "response = requests.get(url+\"defaultjob/36e3d555-3522-4bea-b360-123b7e5bebe2\",auth=Credentials,headers=headers)\n",
        "print(json.dumps(json.loads(response.text), indent=4))"
      ],
      "metadata": {
        "id": "VsV75WKt9TIt"
      },
      "execution_count": null,
      "outputs": []
    },
    {
      "cell_type": "markdown",
      "source": [
        "## Assign Default Jobs On Group\n",
        "\n",
        "**API sample to assign default jobs on group**"
      ],
      "metadata": {
        "id": "OHA4iPgpe5RF"
      }
    },
    {
      "cell_type": "code",
      "source": [
        "Body = r\"\"\"[\n",
        "  {\n",
        "    \"JobID\": \"d04c0919-f475-4dbc-892f-63f892ab5031\",\n",
        "    \"GroupID\": \"8851b4d9-c409-4f4d-a3e2-d9a1a68f4079\",\n",
        "    \"ForceApply\": false,\n",
        "    \"DownloadType\": \"2\",\n",
        "    \"DeviceChargingState\": \"0\"\n",
        "  }\n",
        "]\"\"\"\n",
        "#DownloadType = > 0:wifi, 1: mobile data, 2: Any\n",
        "#DeviceChargingState = > 0:don't care, 1: plugged in\n",
        "#GroupID =>  null for home group\n",
        "\n",
        "#Send request\n",
        "response = requests.post(url+\"defaultjob/\",auth=Credentials,data=Body,headers=headers)\n",
        "\n",
        "print(response.text)"
      ],
      "metadata": {
        "id": "0b1cdU20fCba"
      },
      "execution_count": null,
      "outputs": []
    },
    {
      "cell_type": "markdown",
      "source": [
        "## Unassign Default Jobs from the Group\n"
      ],
      "metadata": {
        "id": "1Jrzy-xJ_Rz4"
      }
    },
    {
      "cell_type": "code",
      "source": [
        "#Delete Default Job\n",
        "import urllib.parse\n",
        "JobIds = urllib.parse.quote(\"\"\"[\"d04c0919-f475-4dbc-892f-63f892ab5031\"]\"\"\")\n",
        "\n",
        "#Send request\n",
        "response = requests.delete(url+\"defaultjob/\"+JobIds+\"/8851b4d9-c409-4f4d-a3e2-d9a1a68f4079\",auth=Credentials,headers=headers)\n",
        "print(response.text)"
      ],
      "metadata": {
        "id": "h2_5OHdW-wXn"
      },
      "execution_count": null,
      "outputs": []
    },
    {
      "cell_type": "markdown",
      "source": [
        "#Tags"
      ],
      "metadata": {
        "id": "WSGpEwYff_98"
      }
    },
    {
      "cell_type": "markdown",
      "source": [
        "## Apply default job on tag\n",
        "\n",
        "**API sample to apply default job on tag**"
      ],
      "metadata": {
        "id": "eFjgi1m-gDWD"
      }
    },
    {
      "cell_type": "code",
      "source": [
        "Body = r\"\"\"[\n",
        "  {\n",
        "    \"JobID\": \"d04c0919-f475-4dbc-892f-63f892ab5031\",\n",
        "    \"GroupID\": \"cd2cf195-ee66-45e6-b17d-ae7b93036135\",\n",
        "    \"ForceApply\": false,\n",
        "    \"DownloadType\": \"2\",\n",
        "    \"DeviceChargingState\": \"0\"\n",
        "  }\n",
        "]\"\"\"\n",
        "#DownloadType = > 0:wifi, 1: mobile data, 2: Any\n",
        "#DeviceChargingState = > 0:don't care, 1: plugged in\n",
        "#GroupID (In this case tagid) =>  null for home group\n",
        "\n",
        "#Send request\n",
        "response = requests.post(url+\"tagsdefaultjobs\",auth=Credentials,data=Body,headers=headers)\n",
        "\n",
        "print(response.text)"
      ],
      "metadata": {
        "id": "ndrgChzzgMG1"
      },
      "execution_count": null,
      "outputs": []
    },
    {
      "cell_type": "markdown",
      "source": [
        "##Apply job on tag\n",
        "\n",
        "**API sample to apply job on tag**\n",
        "\n",
        "For more info: [API Doc](https://developer.42gears.com/suremdm/api/v1/#tag/Tags/paths/~1jobassignment~1tags/post)"
      ],
      "metadata": {
        "id": "z4YUdyc7geUa"
      }
    },
    {
      "cell_type": "code",
      "source": [
        "Body = r\"\"\"{\n",
        "  \"JobId\": \"d04c0919-f475-4dbc-892f-63f892ab5031\",\n",
        "  \"ServerScheduleTime\": null,\n",
        "  \"RecursiveScheduleTime\": 0,\n",
        "  \"DownloadType\": \"2\",\n",
        "  \"DeviceChargingState\": \"0\",\n",
        "  \"TagId\": \"cd2cf195-ee66-45e6-b17d-ae7b93036135\"\n",
        "}\"\"\"\n",
        "#DownloadType = > 0:wifi, 1: mobile data, 2: Any\n",
        "#DeviceChargingState = > 0:don't care, 1: plugged in\n",
        "\n",
        "#Send request\n",
        "response = requests.post(url+\"jobassignment/tags/\",auth=Credentials,data=Body,headers=headers)\n",
        "\n",
        "print(response.text)"
      ],
      "metadata": {
        "id": "65pvU1i-gjTN"
      },
      "execution_count": null,
      "outputs": []
    },
    {
      "cell_type": "markdown",
      "source": [
        "# Filter"
      ],
      "metadata": {
        "id": "Ewscod-FZ5UE"
      }
    },
    {
      "cell_type": "markdown",
      "source": [
        "## Get filters\n",
        "\n",
        "**API sample to list all the filters**"
      ],
      "metadata": {
        "id": "c7Z5GALsaAC_"
      }
    },
    {
      "cell_type": "code",
      "source": [
        "#Send request\n",
        "response = requests.get(url+\"devicefilter\",auth=Credentials,headers=headers)\n",
        "print(json.dumps(json.loads(response.text), indent=4))\n",
        "Filters = json.loads(response.text)"
      ],
      "metadata": {
        "id": "H-STQl2oaPDG"
      },
      "execution_count": null,
      "outputs": []
    },
    {
      "cell_type": "markdown",
      "source": [
        "## Get devices from filter\n",
        "\n",
        "**API sample to apply filter and get devices**\n",
        "\n",
        "uses filter from above API's result"
      ],
      "metadata": {
        "id": "MHDewIMDa_D-"
      }
    },
    {
      "cell_type": "code",
      "source": [
        "filter = Filters[0]\n",
        "filterQuery = json.loads(filter[\"FilterQuery\"])\n",
        "print(filter[\"FilterName\"])\n",
        "SearchCols = list(filterQuery.keys())\n",
        "SearchVals = list(filterQuery.values())\n",
        "\n",
        "payload = r\"\"\"{\n",
        "  \"SearchColumns\": \"\"\" + str(SearchCols) + \"\"\",\n",
        "  \"AdvSearchValue\": \"\"\" + str(SearchVals) + \"\"\",\n",
        "  \"ModelSearchOption\": \"0\",\n",
        "  \"NameSearchOption\": \"0\",\n",
        "  \"ID\": null,\n",
        "  \"IsTag\": false,\n",
        "  \"SortColumn\": \"LastTimeStamp\",\n",
        "  \"SortOrder\": \"desc\",\n",
        "  \"Limit\": 10,\n",
        "  \"Offset\": 0,\n",
        "  \"IsSearch\": true,\n",
        "  \"IsIncludedBlackListed\": false,\n",
        "  \"AdanceSearch\": true,\n",
        "  \"EnableDeviceGlobalSearch\": false,\n",
        "  \"SearchValue\": \"\"\n",
        "}\"\"\"\n",
        "print(payload)\n",
        "#Send request\n",
        "response = requests.post(url+\"devicegrid\",auth=Credentials,data=payload,headers=headers)\n",
        "print(response.text)\n"
      ],
      "metadata": {
        "id": "j-DChC_qclZV"
      },
      "execution_count": null,
      "outputs": []
    },
    {
      "cell_type": "markdown",
      "source": [
        "## Apply job on filter\n",
        "\n",
        "**API sample to apply job on filter devices**"
      ],
      "metadata": {
        "id": "GFsVZgylvRBW"
      }
    },
    {
      "cell_type": "code",
      "source": [
        "payload = r\"\"\"{\n",
        "\"FilterID\":\"10\",\n",
        "\"JobId\":\"cb4f5e0c-1f2b-450f-95c6-84e1efbf72e1\",\n",
        "\"DeviceChargingState\": \"0\",\n",
        "\"DownloadType\": \"2\"\n",
        "}\"\"\"\n",
        "\n",
        "#Send request\n",
        "response = requests.post(url+\"jobassignment/deviceFilter\",auth=Credentials,data=payload,headers=headers)\n",
        "print(response.text)"
      ],
      "metadata": {
        "id": "zd_snnP7va07"
      },
      "execution_count": null,
      "outputs": []
    },
    {
      "cell_type": "markdown",
      "source": [
        "# Job Queue"
      ],
      "metadata": {
        "id": "RCaoXaKILcVg"
      }
    },
    {
      "cell_type": "markdown",
      "source": [
        "## Get Job Queue (Device)\n",
        "\n",
        "**API sample to list all the pending jobs on the particular device**"
      ],
      "metadata": {
        "id": "UWJXP1p_Liz1"
      }
    },
    {
      "cell_type": "code",
      "source": [
        "Body = r\"\"\"{\n",
        "   \"DeviceIds\":\"8a56cb82-faae-4856-b66f-3218c28a8e2e\",\n",
        "}\"\"\"\n",
        "\n",
        "#Send request\n",
        "response = requests.post(url+\"jobqueue/10/0/false/null/Time/desc\",auth=Credentials,data=Body,headers=headers)\n",
        "#Endpoint: {limitJobQueue}/{offsetJobQueue}/{isSearch}/{searchValue}/{sortColumn}/{sortOrder}\n",
        "#Note: Search is not supported by API so isSearch should be false\n",
        "print(json.dumps(json.loads(response.text), indent=4))\n",
        "ResponseObject = json.loads(response.text)"
      ],
      "metadata": {
        "id": "rSl1qlY6LwFK"
      },
      "execution_count": null,
      "outputs": []
    },
    {
      "cell_type": "markdown",
      "source": [
        "**API sample to list all the failed/deployed jobs on the particular device**"
      ],
      "metadata": {
        "id": "QPYdEodQSfe5"
      }
    },
    {
      "cell_type": "code",
      "source": [
        "#Send request\n",
        "response = requests.get(url+\"JobQueueErrorHistory/6ef89b84-c7e8-4960-a863-92ebe0660fa3/false/10/0/false/null/Time/des\",auth=Credentials,headers=headers)\n",
        "#Endpoint: JobQueueErrorHistory/{deviceId}/{isSuccess}/{limitJobQueue}/{offsetJobQueue}/{isSearch}/{searchValue}/{sortColumn}/{sortOrder}\n",
        "#Note: Search is not supported by API so isSearch should be false\n",
        "print(json.dumps(json.loads(response.text), indent=4))\n",
        "ResponseObject = json.loads(response.text)"
      ],
      "metadata": {
        "id": "EwrR4RREShiQ"
      },
      "execution_count": null,
      "outputs": []
    },
    {
      "cell_type": "markdown",
      "source": [
        "##Delete Job From Job Queue (Device)"
      ],
      "metadata": {
        "id": "MrJ5qWh6VO5N"
      }
    },
    {
      "cell_type": "code",
      "source": [
        "import urllib.parse\n",
        "JobIds = urllib.parse.quote(\"\"\"[\"0438f622-2f51-49d1-b675-d67d7b4e7114\"]\"\"\")\n",
        "DeviceIds = urllib.parse.quote(\"[\\\"6ef89b84-c7e8-4960-a863-92ebe0660fa3\\\"]\")\n",
        "RowIds = urllib.parse.quote(\"[\\\"bce12067-dbe7-44a7-a79b-a24e08b9b564\\\"]\")\n",
        "print(url+\"jobqueue/\"+JobIds+\"/\"+DeviceIds+\"/\"+RowIds)\n",
        "#Send request\n",
        "response = requests.delete(url+\"jobqueue/\"+JobIds+\"/\"+DeviceIds+\"/\"+RowIds,auth=Credentials,headers=headers)\n",
        "print(response.text)"
      ],
      "metadata": {
        "id": "gWsLLodfVURd"
      },
      "execution_count": null,
      "outputs": []
    },
    {
      "cell_type": "markdown",
      "source": [
        "## Re-Apply Job in Jobqueue (Device)"
      ],
      "metadata": {
        "id": "v0-c8j10TqGg"
      }
    },
    {
      "cell_type": "markdown",
      "source": [
        "**Re-Apply Failed/Inprogress jobs from jobqueue**"
      ],
      "metadata": {
        "id": "hj3e1i5hTzKI"
      }
    },
    {
      "cell_type": "code",
      "source": [
        "Body = r\"\"\"{\n",
        "   \"JobID\":\"607405d4-3128-4dc5-9c2f-acf5cd24c51d\",\n",
        "   \"DeviceId\":\"6ef89b84-c7e8-4960-a863-92ebe0660fa3\",\n",
        "   \"RowId\":\"6949843d-bce9-4222-bde5-caac43f5f27a\",\n",
        "   \"Status\":\"Error\",\n",
        "   \"JobPlatform\":\"ANDROID\"\n",
        "}\"\"\"\n",
        "#RowId is jobqueu id\n",
        "\n",
        "#Send request\n",
        "response = requests.put(url+\"jobqueue\",auth=Credentials,data=Body,headers=headers)\n",
        "print(response.text)"
      ],
      "metadata": {
        "id": "j0fkJb03TzUc"
      },
      "execution_count": null,
      "outputs": []
    },
    {
      "cell_type": "markdown",
      "source": [
        "## Get Job Queue (Group)"
      ],
      "metadata": {
        "id": "I5ObsOIeYXdJ"
      }
    },
    {
      "cell_type": "code",
      "source": [
        "#Send request\n",
        "response = requests.get(url+\"GroupJobQueue/8851b4d9-c409-4f4d-a3e2-d9a1a68f4079/1\",auth=Credentials,headers=headers)\n",
        "#Endpoint: GroupJobQueue/{GroupId}/{Type}\n",
        "#Type-> 0: Pending to deploy jobs, 1: Succefully Deployed jobs, 2: deployment In-Progress jobs, 3: Failed to deploy jobs\n",
        "print(response.text)"
      ],
      "metadata": {
        "id": "VyZXjNc1Yp0k"
      },
      "execution_count": null,
      "outputs": []
    },
    {
      "cell_type": "markdown",
      "source": [
        "##Delete Job From Job Queue (Group)"
      ],
      "metadata": {
        "id": "xNrAiKatZytC"
      }
    },
    {
      "cell_type": "code",
      "source": [
        "#Send request\n",
        "response = requests.get(url+\"GroupJobQueue/0438f622-2f51-49d1-b675-d67d7b4e7114/5419057d-bcb7-4e15-a9d3-3c4d801d0276/0\",auth=Credentials,headers=headers)\n",
        "#Endpoint: GroupJobQueue/{JobId}/{GroupId}/{Type}\n",
        "#Type-> 0: Pending to deploy jobs, 1: Succefully Deployed jobs, 2: deployment In-Progress jobs, 3: Failed to deploy jobs\n",
        "print(response.text)\n"
      ],
      "metadata": {
        "id": "kWHCo6yqZ4Vo"
      },
      "execution_count": null,
      "outputs": []
    },
    {
      "cell_type": "markdown",
      "source": [
        "##Re-Apply Job in Jobqueue (Group)"
      ],
      "metadata": {
        "id": "3ArTQK0va9Oq"
      }
    },
    {
      "cell_type": "code",
      "source": [
        "#Send request\n",
        "response = requests.put(url+\"GroupJobQueue/0438f622-2f51-49d1-b675-d67d7b4e7114/5419057d-bcb7-4e15-a9d3-3c4d801d0276/0\",auth=Credentials,headers=headers)\n",
        "#Endpoint: GroupJobQueue/{JobId}/{GroupId}/{Type}\n",
        "#Type-> 0: Pending to deploy jobs, 1: Succefully Deployed jobs, 2: deployment In-Progress jobs, 3: Failed to deploy jobs\n",
        "print(response.text)"
      ],
      "metadata": {
        "id": "JO_SwdBFa-i8"
      },
      "execution_count": null,
      "outputs": []
    },
    {
      "cell_type": "markdown",
      "source": [
        "# App Store\n",
        "\n"
      ],
      "metadata": {
        "id": "09HesbbUSAV1"
      }
    },
    {
      "cell_type": "markdown",
      "source": [
        "## List Apps\n",
        "\n",
        "**API sample to list all the Apps from app store**\n",
        "\n"
      ],
      "metadata": {
        "id": "lX7up1BxVYYb"
      }
    },
    {
      "cell_type": "code",
      "source": [
        "#Send request\n",
        "response = requests.get(url+\"EAM/Android/false\",auth=Credentials,headers=headers)\n",
        "#endpoint: EAM/{Platform}/{WithIcon}\n",
        "#Platform -> Android, ios, macOS, Windows, Linux\n",
        "\n",
        "print(json.dumps(json.loads(response.text), indent=4))"
      ],
      "metadata": {
        "id": "XUfdpIXnUXMx"
      },
      "execution_count": null,
      "outputs": []
    },
    {
      "cell_type": "markdown",
      "source": [
        "## Upload App"
      ],
      "metadata": {
        "id": "I0ug5ukiVSyO"
      }
    },
    {
      "cell_type": "code",
      "source": [
        "\n",
        "\n",
        "# Replace <file_path> with the path to the file you want to upload\n",
        "file_path = \"/content/sample_data/vk3.apk\"\n",
        "# Replace <file_name> with the name of the file you want to upload\n",
        "file_name = \"vk3.apk\"\n",
        "\n",
        "appsize = os.path.getsize(file_path)\n",
        "Body = f\"\"\"{{\n",
        "   \"AppTitle\":\"{str(file_name)}\",\n",
        "   \"AppSize\":\"{str(appsize)}\",\n",
        "   \"IsS3Storage\":true,\n",
        "   \"PlatformType\":\"Android\"\n",
        "}}\"\"\"\n",
        "\n",
        "print(Body)\n",
        "#Send request\n",
        "response = requests.post(url+\"EAM\",auth=Credentials,data=Body,headers=headers)\n",
        "print(response.text)\n",
        "ResponseObjectEAM = json.loads(response.text)"
      ],
      "metadata": {
        "id": "b384B8fkUi9u"
      },
      "execution_count": null,
      "outputs": []
    },
    {
      "cell_type": "code",
      "source": [
        "# Open the file and get its contents\n",
        "with open(file_path, \"rb\") as f:\n",
        "    file_contents = f.read()\n",
        "\n",
        "# Set the headers for the PUT request\n",
        "uploadHeaders = {\n",
        "    \"Content-Type\": \"application/octet-stream\",\n",
        "    \"Content-Length\": str(len(file_contents))\n",
        "}\n",
        "\n",
        "# Send the PUT request with the file contents as the payload\n",
        "response = requests.put(str(ResponseObjectEAM[\"SignedURL\"]), data=file_contents, headers=uploadHeaders)\n",
        "print(response.status_code)"
      ],
      "metadata": {
        "id": "tsoPL-6nWEq8"
      },
      "execution_count": null,
      "outputs": []
    },
    {
      "cell_type": "code",
      "source": [
        "Body = f\"\"\"{{\n",
        "    \"GUID\": \"{str(ResponseObjectEAM[\"GUID\"])}\",\n",
        "    \"AppURL\": \"{str(ResponseObjectEAM[\"AppURL\"])}\",\n",
        "    \"IsS3Storage\": true,\n",
        "    \"PlatformType\": \"Android\"\n",
        "}}\"\"\"\n",
        "print(Body)\n",
        "#Send request\n",
        "response = requests.put(url+\"EAMGetAppDetails\",auth=Credentials,data=Body,headers=headers)\n",
        "print(response.text)\n",
        "ResponseObject = json.loads(response.text)"
      ],
      "metadata": {
        "id": "8qTM9bRZX3ID"
      },
      "execution_count": null,
      "outputs": []
    },
    {
      "cell_type": "code",
      "source": [
        "ResponseObject[\"AppCategory\"] = \"Test app\"\n",
        "ResponseObject[\"AppDescription\"] = \"This is test app\"\n",
        "ResponseObject[\"AppTitle\"] = \"app titie\"\n",
        "ResponseObject[\"AppSize\"] = str(appsize)\n",
        "\n",
        "Body = json.dumps(ResponseObject)\n",
        "print(Body)\n",
        "#Send request\n",
        "response = requests.post(url+\"EAMSaveAppDetails\",auth=Credentials,data=Body,headers=headers)\n",
        "print(response.text)"
      ],
      "metadata": {
        "id": "XxxWUbmaaZM0"
      },
      "execution_count": null,
      "outputs": []
    },
    {
      "cell_type": "markdown",
      "source": [
        "# Profiles\n"
      ],
      "metadata": {
        "id": "jhnovTqD9tqK"
      }
    },
    {
      "cell_type": "markdown",
      "source": [
        "## List Profiles\n",
        "\n",
        "**API sample to list profiles**\n",
        "For more info: [API Doc](https://developer.42gears.com/suremdm/api/v1/#tag/JobsProfiles/paths/~1profile~1List~1{platform}~1{profileFolderId}/get)"
      ],
      "metadata": {
        "id": "h2xB7xZe9xlq"
      }
    },
    {
      "cell_type": "code",
      "source": [
        "#Send request\n",
        "response = requests.get(url+\"Profile/List/ANDROID/null/10/0/LastModified/desc\",auth=Credentials,headers=headers)\n",
        "#Endpoint = Profile/List/{platform}/{profileFolderId}/{limit}/{offSet}/{sortColumn}/{sortOrder}\n",
        "print(response.text)"
      ],
      "metadata": {
        "id": "cPfqlXoW98TP"
      },
      "execution_count": null,
      "outputs": []
    },
    {
      "cell_type": "markdown",
      "source": [
        "## Create Profile"
      ],
      "metadata": {
        "id": "ZCSzGJiq_MXW"
      }
    },
    {
      "cell_type": "markdown",
      "source": [
        "**Sample API to Create a Profile**\n",
        "\n",
        "In this example we configure *Application Policy*(using app store) and *Password Policy*\n",
        "\n",
        "For more info: refer ***Create Profile*** option [API Doc](https://developer.42gears.com/suremdm/api/v1/#tag/JobsProfiles/paths/~1job/post)"
      ],
      "metadata": {
        "id": "0DW2mZByGsPR"
      }
    },
    {
      "cell_type": "code",
      "source": [
        "Payload = \"\"\"{\n",
        "  \\\\\\\"applicationPolicy\\\\\\\":{\n",
        "      \\\\\\\"enablePlayStore\\\\\\\":false\n",
        "      },\n",
        "  \\\\\\\"enterpriseAppStore\\\\\\\":{\n",
        "\t  \\\\\\\"eamApps\\\\\\\":[\n",
        "\t\t  {\\\\\\\"AppTitle\\\\\\\":\\\\\\\"DeviceInfo\\\\\\\",\n",
        "\t\t\t\\\\\\\"AppVersion\\\\\\\":\\\\\\\"1.0.1\\\\\\\",\n",
        "\t\t\t\\\\\\\"AutoInstallApp\\\\\\\":true,\n",
        "\t\t\t\\\\\\\"PlatformType\\\\\\\":\\\\\\\"Android\\\\\\\",\n",
        "\t\t\t\\\\\\\"AppCategory\\\\\\\":\\\\\\\"11\\\\\\\",\n",
        "\t\t\t\\\\\\\"AppDescription\\\\\\\":\\\\\\\"11\\\\\\\",\n",
        "\t\t\t\\\\\\\"AppIcon\\\\\\\":\\\\\\\"iVBORw0KGgoAAAANSUhEUgAAADAAAAAwCAQAAAD9CzEMAAAE3klEQVRYw6WYW48URRTHf1Xd07Mzy3JZNEGXjQqMgAS5xBB0ExLURMODL0aNRL+DT34K\\\\\\/RA+6JMkoFE00egDunHJohIDiAgubiCwctndZqZvVeXD1Mz0bZpltzqZTFVXn8v\\\\\\/\\\\\\/M\\\\\\/pUy0M6SEE7qamVzeCVYwgXuoQGp1eczPina0bHp8aPU7LOKuQb7iTfP3vCXHTxCmZJmX9xPi2j9YfX\\\\\\/JiVjckY0rPXTl27YpRZQq8Q29s\\\\\\/jT2xlj9COkY5\\\\\\/TM+4t3SyDa2Gy81\\\\\\/F2IFjLuCrqU6NjlCmojbADJGsbDtJz3dIgG4GzdgWCLD+yLEIMVSDs\\\\\\/S5dDKYi1EMVFG\\\\\\/3hEtcXFwEAo0iQZFAiRpZrUAWQixx8GhSY5wmDRwCOtwhJKBDgi6JwlAFpgCRpMY6NtDiIGn6JpznEgv4BOiMHxJBuDKIBJIGo0xwjHoODocDHOAMF1jmAUnqnshh4JYFs3drlA0cZo8VblAoDA6ONWOKnXzLAg+IVsYiUhBJmmzibRp9lBNuM4tiK3sYsYaM8y4nmWeZpMTEyhjUaTLFSN95TchlTgPbmaSWsvMYn5HQtrFQubC7efulxXgdk2xLYTvgvrGA9dYE+zjJPUIMcJlJ\\\\\\/dA8EDRo8ErBlmd4Gc1WGjYavbGbc8QoVAbk0rwSCAQONV5AWgtN3\\\\\\/rNHOEltiNIUOjU9SYN6jhI5PAgtzGWxzUatHJZqom4xnckPMuLjOYsqzFh005UZfKiiojw8NjYh8dg0Bg0bS7yFTDHbkYK+TvJNQtvBU2X9T1uI9nIeqKCB4oAgJgYXSgpT6FwSmKQo6m0PPIKNcaUMmowxnFwrIRKFmkMEc2CAp2qObrEA4mwe5zhtcglQSOR3C9RkM6DooKAGGUVVCQaaCChU4AgDUsZRHfRqIexqOsmxPiPDNElnD5EFQokBk3Ef0S58AwUlEN0k9juqMjkrnhFRMQvuTwusih9LXGb0Ba6CgXCMkHR4TyLmWLQvQbeZK9TRER2h1PlAVZBQJsvC2J6EOXXp1lgmcTuqYRI2EdilllgJgODoGbrjpuBaYlztIls+WMlLOp2mT5n2cJE6j28m3dQPMm6FMdCTtCmg1pJXyRSCqCD4RQtjtpHJI9xBGMLcnffRaZZws+8HSppmu4dEtokXOQGR60fgzpjgJBvuGGtNyvrixxMJsG6lO3wBVt4mr0p5+f5g3k6+MS5lNQIW3VLi50uZLAioYPPHD8ziockJCAgISTK2d6ryJUQ6ZKTkSJE4HIXiUBhSFLF7xEUiBIP0u1iWsywoas90MSs5vw3GHG1gjp\\\\\\/463hEKVQwzu7ti0DoV2M+x1DFyBTaOu7POuKESV7SmiqeYKWfcjjdwz7bWNb40\\\\\\/m+zsPM2LLQsIZXiW2hXqRX3PETM+0SAyTzPQX9qKZ7s+eZ65viOCs\\\\\\/b+TCea4YWf7URXFLlDnx2hTw8fHp8l9fJp2VqPdr54xHm18fB7Q5Bab7Z4AAdSCMC73oH31k0Nv\\\\\\/dDcyTYA7vEb8ByT3Z6JmRTC0+xHAIZZfC5w0MbgJ15X\\\\\\/3zO4pBPCaw\\\\\\/9EHrw+sjS1JkzpW93+y\\\\\\/\\\\\\/F1B0+yLo9mPj3N98EFEpOMuJGNbWrtea+4Sbu9AKG2fIB4yl0iT3Prr+x9nWTBJqQe9Ly7UV5kKBkVAYjIi\\\\\\/wehm0uZKZ3sSgAAAABJRU5ErkJggg==\\\\\\\",\n",
        "\t\t\t\\\\\\\"AppPackage\\\\\\\":\\\\\\\"com.curvefish.apps.deviceinfo\\\\\\\",\n",
        "\t\t\t\\\\\\\"AppSize\\\\\\\":\\\\\\\"82494\\\\\\\",\n",
        "\t\t\t\\\\\\\"AppURL\\\\\\\":\\\\\\\"062200038\\\\\\/EAM\\\\\\/Android\\\\\\/5bdf9773-af0d-4745-ae9b-f066ea767b79\\\\\\\",\n",
        "\t\t\t\\\\\\\"GUID\\\\\\\":\\\\\\\"5bdf9773-af0d-4745-ae9b-f066ea767b79\\\\\\\",\n",
        "\t\t\t\\\\\\\"IsS3Storage\\\\\\\":\\\\\\\"true\\\\\\\",\n",
        "\t\t\t\\\\\\\"AppVersionCode\\\\\\\":\\\\\\\"2\\\\\\\",\n",
        "\t\t\t\\\\\\\"ApplicationType\\\\\\\":\\\\\\\"EnterpriseApplication\\\\\\\",\n",
        "\t\t\t\\\\\\\"AppType\\\\\\\":0\n",
        "\t\t  }\n",
        "\t\t]\n",
        "\t},\n",
        "\t\\\\\\\"passwordPolicy\\\\\\\":{\n",
        "\t\t\\\\\\\"ProfileType\\\\\\\":\\\\\\\"3\\\\\\\",\n",
        "\t\t\\\\\\\"workProfileQuality\\\\\\\":\\\\\\\"262144\\\\\\\",\n",
        "\t\t\\\\\\\"workProfileMinimumLength\\\\\\\":\\\\\\\"16\\\\\\\",\n",
        "\t\t\\\\\\\"workProfileMinimumLetterLength\\\\\\\":null,\n",
        "\t\t\\\\\\\"workProfileMinimumLowerCaseLength\\\\\\\":null,\n",
        "\t\t\\\\\\\"workProfileMinimumNonLetterLength\\\\\\\":null,\n",
        "\t\t\\\\\\\"workProfileMinimumNumericLength\\\\\\\":null,\n",
        "\t\t\\\\\\\"workProfileMinimumSymbolLength\\\\\\\":null,\n",
        "\t\t\\\\\\\"workProfileMinimumUpperCaseLength\\\\\\\":null,\n",
        "\t\t\\\\\\\"quality\\\\\\\":\\\\\\\"131072\\\\\\\",\n",
        "\t\t\\\\\\\"expirationTimeout\\\\\\\":3204000000,\n",
        "\t\t\\\\\\\"historyLength\\\\\\\":\\\\\\\"5\\\\\\\",\n",
        "\t\t\\\\\\\"maximumFailedAttempts\\\\\\\":\\\\\\\"3\\\\\\\",\n",
        "\t\t\\\\\\\"minimumLength\\\\\\\":\\\\\\\"7\\\\\\\",\n",
        "\t\t\\\\\\\"maximumTimeToLock\\\\\\\":699000\n",
        "\t},\n",
        "}\"\"\"\n",
        "Body = \"{\\\"FolderId\\\":null,\\\"JobName\\\":\\\"Test Profile\\\",\\\"JobType\\\":\\\"ANDROID WORK PROFILE\\\",\\\"Platform\\\":\\\"Android\\\",\\\"PayLoad\\\":[\\\"\"+ Payload +\"\\\"]}\"\n",
        "print(Body)\n",
        "#Send request\n",
        "response = requests.post(url+\"job\",auth=Credentials,data=Body,headers=headers)\n",
        "\n",
        "#Api returns ProfileID\n",
        "print(response.text)\n",
        "jobId = response.text\n",
        "# returns jobid"
      ],
      "metadata": {
        "id": "BQoj7rPb_S6D"
      },
      "execution_count": null,
      "outputs": []
    },
    {
      "cell_type": "markdown",
      "source": [
        "## Modify Profile"
      ],
      "metadata": {
        "id": "CblvkHj1Nvdz"
      }
    },
    {
      "cell_type": "markdown",
      "source": [
        "**Sample API for modifying Profile**\n",
        "\n",
        "In this example we configure *Application Policy*(using app store) and *Password Policy*\n",
        "\n",
        "For more info: refer ***Modify Profile*** option [API Doc](https://developer.42gears.com/suremdm/api/v1/#tag/JobsProfiles/paths/~1job/put)"
      ],
      "metadata": {
        "id": "qVrzKq99NqbA"
      }
    },
    {
      "cell_type": "code",
      "source": [
        "Payload = \"\"\"{\n",
        "  \\\\\\\"applicationPolicy\\\\\\\":{\n",
        "      \\\\\\\"enablePlayStore\\\\\\\":false\n",
        "      },\n",
        "  \\\\\\\"enterpriseAppStore\\\\\\\":{\n",
        "\t  \\\\\\\"eamApps\\\\\\\":[\n",
        "\t\t  {\\\\\\\"AppTitle\\\\\\\":\\\\\\\"DeviceInfo\\\\\\\",\n",
        "\t\t\t\\\\\\\"AppVersion\\\\\\\":\\\\\\\"1.0.1\\\\\\\",\n",
        "\t\t\t\\\\\\\"AutoInstallApp\\\\\\\":true,\n",
        "\t\t\t\\\\\\\"PlatformType\\\\\\\":\\\\\\\"Android\\\\\\\",\n",
        "\t\t\t\\\\\\\"AppCategory\\\\\\\":\\\\\\\"11\\\\\\\",\n",
        "\t\t\t\\\\\\\"AppDescription\\\\\\\":\\\\\\\"11\\\\\\\",\n",
        "\t\t\t\\\\\\\"AppIcon\\\\\\\":\\\\\\\"iVBORw0KGgoAAAANSUhEUgAAADAAAAAwCAQAAAD9CzEMAAAE3klEQVRYw6WYW48URRTHf1Xd07Mzy3JZNEGXjQqMgAS5xBB0ExLURMODL0aNRL+DT34K\\\\\\/RA+6JMkoFE00egDunHJohIDiAgubiCwctndZqZvVeXD1Mz0bZpltzqZTFVXn8v\\\\\\/\\\\\\/M\\\\\\/pUy0M6SEE7qamVzeCVYwgXuoQGp1eczPina0bHp8aPU7LOKuQb7iTfP3vCXHTxCmZJmX9xPi2j9YfX\\\\\\/JiVjckY0rPXTl27YpRZQq8Q29s\\\\\\/jT2xlj9COkY5\\\\\\/TM+4t3SyDa2Gy81\\\\\\/F2IFjLuCrqU6NjlCmojbADJGsbDtJz3dIgG4GzdgWCLD+yLEIMVSDs\\\\\\/S5dDKYi1EMVFG\\\\\\/3hEtcXFwEAo0iQZFAiRpZrUAWQixx8GhSY5wmDRwCOtwhJKBDgi6JwlAFpgCRpMY6NtDiIGn6JpznEgv4BOiMHxJBuDKIBJIGo0xwjHoODocDHOAMF1jmAUnqnshh4JYFs3drlA0cZo8VblAoDA6ONWOKnXzLAg+IVsYiUhBJmmzibRp9lBNuM4tiK3sYsYaM8y4nmWeZpMTEyhjUaTLFSN95TchlTgPbmaSWsvMYn5HQtrFQubC7efulxXgdk2xLYTvgvrGA9dYE+zjJPUIMcJlJ\\\\\\/dA8EDRo8ErBlmd4Gc1WGjYavbGbc8QoVAbk0rwSCAQONV5AWgtN3\\\\\\/rNHOEltiNIUOjU9SYN6jhI5PAgtzGWxzUatHJZqom4xnckPMuLjOYsqzFh005UZfKiiojw8NjYh8dg0Bg0bS7yFTDHbkYK+TvJNQtvBU2X9T1uI9nIeqKCB4oAgJgYXSgpT6FwSmKQo6m0PPIKNcaUMmowxnFwrIRKFmkMEc2CAp2qObrEA4mwe5zhtcglQSOR3C9RkM6DooKAGGUVVCQaaCChU4AgDUsZRHfRqIexqOsmxPiPDNElnD5EFQokBk3Ef0S58AwUlEN0k9juqMjkrnhFRMQvuTwusih9LXGb0Ba6CgXCMkHR4TyLmWLQvQbeZK9TRER2h1PlAVZBQJsvC2J6EOXXp1lgmcTuqYRI2EdilllgJgODoGbrjpuBaYlztIls+WMlLOp2mT5n2cJE6j28m3dQPMm6FMdCTtCmg1pJXyRSCqCD4RQtjtpHJI9xBGMLcnffRaZZws+8HSppmu4dEtokXOQGR60fgzpjgJBvuGGtNyvrixxMJsG6lO3wBVt4mr0p5+f5g3k6+MS5lNQIW3VLi50uZLAioYPPHD8ziockJCAgISTK2d6ryJUQ6ZKTkSJE4HIXiUBhSFLF7xEUiBIP0u1iWsywoas90MSs5vw3GHG1gjp\\\\\\/463hEKVQwzu7ti0DoV2M+x1DFyBTaOu7POuKESV7SmiqeYKWfcjjdwz7bWNb40\\\\\\/m+zsPM2LLQsIZXiW2hXqRX3PETM+0SAyTzPQX9qKZ7s+eZ65viOCs\\\\\\/b+TCea4YWf7URXFLlDnx2hTw8fHp8l9fJp2VqPdr54xHm18fB7Q5Bab7Z4AAdSCMC73oH31k0Nv\\\\\\/dDcyTYA7vEb8ByT3Z6JmRTC0+xHAIZZfC5w0MbgJ15X\\\\\\/3zO4pBPCaw\\\\\\/9EHrw+sjS1JkzpW93+y\\\\\\/\\\\\\/F1B0+yLo9mPj3N98EFEpOMuJGNbWrtea+4Sbu9AKG2fIB4yl0iT3Prr+x9nWTBJqQe9Ly7UV5kKBkVAYjIi\\\\\\/wehm0uZKZ3sSgAAAABJRU5ErkJggg==\\\\\\\",\n",
        "\t\t\t\\\\\\\"AppPackage\\\\\\\":\\\\\\\"com.curvefish.apps.deviceinfo\\\\\\\",\n",
        "\t\t\t\\\\\\\"AppSize\\\\\\\":\\\\\\\"82494\\\\\\\",\n",
        "\t\t\t\\\\\\\"AppURL\\\\\\\":\\\\\\\"062200038\\\\\\/EAM\\\\\\/Android\\\\\\/5bdf9773-af0d-4745-ae9b-f066ea767b79\\\\\\\",\n",
        "\t\t\t\\\\\\\"GUID\\\\\\\":\\\\\\\"5bdf9773-af0d-4745-ae9b-f066ea767b79\\\\\\\",\n",
        "\t\t\t\\\\\\\"IsS3Storage\\\\\\\":\\\\\\\"true\\\\\\\",\n",
        "\t\t\t\\\\\\\"AppVersionCode\\\\\\\":\\\\\\\"2\\\\\\\",\n",
        "\t\t\t\\\\\\\"ApplicationType\\\\\\\":\\\\\\\"EnterpriseApplication\\\\\\\",\n",
        "\t\t\t\\\\\\\"AppType\\\\\\\":0\n",
        "\t\t  }\n",
        "\t\t]\n",
        "\t},\n",
        "\t\\\\\\\"passwordPolicy\\\\\\\":{\n",
        "\t\t\\\\\\\"ProfileType\\\\\\\":\\\\\\\"3\\\\\\\",\n",
        "\t\t\\\\\\\"workProfileQuality\\\\\\\":\\\\\\\"262144\\\\\\\",\n",
        "\t\t\\\\\\\"workProfileMinimumLength\\\\\\\":\\\\\\\"16\\\\\\\",\n",
        "\t\t\\\\\\\"workProfileMinimumLetterLength\\\\\\\":null,\n",
        "\t\t\\\\\\\"workProfileMinimumLowerCaseLength\\\\\\\":null,\n",
        "\t\t\\\\\\\"workProfileMinimumNonLetterLength\\\\\\\":null,\n",
        "\t\t\\\\\\\"workProfileMinimumNumericLength\\\\\\\":null,\n",
        "\t\t\\\\\\\"workProfileMinimumSymbolLength\\\\\\\":null,\n",
        "\t\t\\\\\\\"workProfileMinimumUpperCaseLength\\\\\\\":null,\n",
        "\t\t\\\\\\\"quality\\\\\\\":\\\\\\\"131072\\\\\\\",\n",
        "\t\t\\\\\\\"expirationTimeout\\\\\\\":3204000000,\n",
        "\t\t\\\\\\\"historyLength\\\\\\\":\\\\\\\"5\\\\\\\",\n",
        "\t\t\\\\\\\"maximumFailedAttempts\\\\\\\":\\\\\\\"3\\\\\\\",\n",
        "\t\t\\\\\\\"minimumLength\\\\\\\":\\\\\\\"7\\\\\\\",\n",
        "\t\t\\\\\\\"maximumTimeToLock\\\\\\\":699000\n",
        "\t},\n",
        "}\"\"\"\n",
        "Body = \"{\\\"JobID\\\": \\\"d376835c-9c96-431d-9c28-ed5eff4130ca\\\",\\\"FolderId\\\":null,\\\"JobName\\\":\\\"Test Profile\\\",\\\"JobType\\\":\\\"ANDROID WORK PROFILE\\\",\\\"Platform\\\":\\\"Android\\\",\\\"PayLoad\\\":[\\\"\"+ Payload +\"\\\"]}\"\n",
        "print(Body)\n",
        "#Send request\n",
        "response = requests.put(url+\"job\",auth=Credentials,data=Body,headers=headers)\n",
        "\n",
        "#Api returns ProfileID\n",
        "print(response.text)\n",
        "ProfileID = response.text\n",
        "# returns jobid"
      ],
      "metadata": {
        "id": "ianO-vc1OAfX"
      },
      "execution_count": null,
      "outputs": []
    },
    {
      "cell_type": "markdown",
      "source": [
        "##Delete Profile"
      ],
      "metadata": {
        "id": "De8wveefPP8_"
      }
    },
    {
      "cell_type": "code",
      "source": [
        "Body = \"{\\\"FolderId\\\":null,\\\"JobID\\\":\\\"\"+ ProfileID +\"\\\",\\\"JobType\\\":\\\"ANDROID WORK PROFILE\\\",\\\"Platform\\\":\\\"ANDROID\\\"}\"\n",
        "\n",
        "#Send request\n",
        "response = requests.delete(url+\"job\",auth=Credentials,data=Body,headers=headers)\n",
        "print(response.text)"
      ],
      "metadata": {
        "id": "pL6et_Q8PQY1"
      },
      "execution_count": null,
      "outputs": []
    },
    {
      "cell_type": "markdown",
      "source": [
        "#PFW Apps\n",
        "\n",
        "Get Pfw app deatils and Install on device"
      ],
      "metadata": {
        "id": "awMJwxyRfUqC"
      }
    },
    {
      "cell_type": "markdown",
      "source": [
        "## Get PFW App Details"
      ],
      "metadata": {
        "id": "ibaWTrqKfZGJ"
      }
    },
    {
      "cell_type": "code",
      "source": [
        "#Send request\n",
        "import json\n",
        "response = requests.get(url+\"afwapp/GetPFWAppDetails/com.google.android.gm\",auth=Credentials,data=\"\",headers=headers)\n",
        "\n",
        "#print(response.text)\n",
        "print(json.dumps(json.loads(response.text), indent=2))"
      ],
      "metadata": {
        "id": "OYapdt2AfbAf"
      },
      "execution_count": null,
      "outputs": []
    },
    {
      "cell_type": "markdown",
      "source": [
        "## Install PFW App On Device\n"
      ],
      "metadata": {
        "id": "2coDSWsqfgqC"
      }
    },
    {
      "cell_type": "code",
      "source": [
        "#Replace GroupID and JobID with your values below\n",
        "Body = r\"\"\"{\n",
        "    ProductId:\"net.sourceforge.opencamera\",\n",
        "    DeviceIds:[\"a975191a-8603-40ec-b34a-08eba69b2ad6\", \"gfsd\"],\n",
        "    AutoUpdateMode: \"\",\n",
        "    InstallPolicy: {\n",
        "\t\t\"InstallMode\" : \"forceAutoInstall\",\n",
        "\t\t\"InstallPriority\" : 1,\n",
        "\t\t\"InstallConstraint\" : {\n",
        "\t\t\t\"NetworkType\" : \"anyNetwork\",\n",
        "\t\t\t\"ChargingState\" : \"chargingNotRequired\",\n",
        "\t\t\t\"DeviceIdleState\" : \"deviceIdleNotRequired\"\n",
        "\t\t}\n",
        "\t} ,\n",
        "    Restrictions:[\n",
        "        {\n",
        "            \"Title\": \"Email Address\",\n",
        "            \"Description\": \"A variable field that supports a specific email address (janedoe@company.com) or templated value ($emailaddress$). EMMs can use this field to pull user credentials from Active Directory.\",\n",
        "            \"Key\": \"email_address\",\n",
        "            \"Value\": \"a@a.com\",\n",
        "            \"Type\": \"string\",\n",
        "            \"SelectKeys\": \"\",\n",
        "            \"SelectValues\": \"\",\n",
        "            \"NestedRestriction\": null\n",
        "        },\n",
        "\n",
        "    ],\n",
        "   \"Permissions\": [\n",
        "    {\n",
        "      \"permission\": \"android.permission.ACCESS_COARSE_LOCATION\",\n",
        "      \"state\": 0\n",
        "    },\n",
        "    {\n",
        "      \"permission\": \"android.permission.ACCESS_FINE_LOCATION\",\n",
        "      \"state\": 0\n",
        "    },\n",
        "    {\n",
        "      \"permission\": \"android.permission.BLUETOOTH\",\n",
        "      \"state\": 0\n",
        "    },\n",
        "    {\n",
        "      \"permission\": \"android.permission.BLUETOOTH_ADMIN\",\n",
        "      \"state\": 0\n",
        "    },\n",
        "    {\n",
        "      \"permission\": \"android.permission.BLUETOOTH_CONNECT\",\n",
        "      \"state\": 0\n",
        "    },\n",
        "    {\n",
        "      \"permission\": \"android.permission.BLUETOOTH_SCAN\",\n",
        "      \"state\": 0\n",
        "    },\n",
        "    {\n",
        "      \"permission\": \"android.permission.CAMERA\",\n",
        "      \"state\": 1\n",
        "    },\n",
        "    {\n",
        "      \"permission\": \"android.permission.READ_EXTERNAL_STORAGE\",\n",
        "      \"state\": 0\n",
        "    },\n",
        "    {\n",
        "      \"permission\": \"android.permission.RECORD_AUDIO\",\n",
        "      \"state\": 0\n",
        "    },\n",
        "    {\n",
        "      \"permission\": \"android.permission.WRITE_EXTERNAL_STORAGE\",\n",
        "      \"state\": 0\n",
        "    }\n",
        "  ],\n",
        "\n",
        "}\"\"\"\n",
        "\n",
        "#Send request\n",
        "response = requests.post(url+\"afwapp/InstallPFWApp\",auth=Credentials,data=Body,headers=headers)\n",
        "\n",
        "print(\"dsfg\" + response.text)"
      ],
      "metadata": {
        "id": "42Gml4AifhnJ"
      },
      "execution_count": null,
      "outputs": []
    },
    {
      "cell_type": "markdown",
      "source": [
        "#User Management\n"
      ],
      "metadata": {
        "id": "cqoi1a6KENiA"
      }
    },
    {
      "cell_type": "markdown",
      "source": [
        "##List Device"
      ],
      "metadata": {
        "id": "caVq6SYJaj30"
      }
    },
    {
      "cell_type": "markdown",
      "source": [
        "**API to List all the Devices**\n",
        "\n",
        "This api allows you to list all the devices on the basis of GroupID and store all the listed deviceids in a variable DeviceIds"
      ],
      "metadata": {
        "id": "JV7XRwkDavIq"
      }
    },
    {
      "cell_type": "markdown",
      "source": [
        "Request Body Schema\n",
        "\n",
        "| Parameter                       | Data Type | Description                                                |\n",
        "|---------------------------|-----------|------------------------------------------------------------|\n",
        "| AdanceSearch              | Boolean   | Enable advanced search (true/false).                       |\n",
        "| AdvSearchJobID            | String    | Advanced search job ID.                                    |\n",
        "| AdvSearchValue            | List      | Values for advanced search.                                |\n",
        "| SearchColumns             | List      | Columns to be searched.                                   |\n",
        "| EnableDeviceGlobalSearch  | Boolean   | Enable global search for devices (true/false).            |\n",
        "| ID                        | Value     | Group ID for filtering devices.                           |\n",
        "| IsSearch                  | Boolean   | Indicate if it's a search operation (true/false).         |\n",
        "| IsTag                     | Boolean   | Indicate if tag use for filteration (true/false).            |\n",
        "| Limit                     | Integer   | Maximum number of results to retrieve.                    |\n",
        "| Offset                    | Integer   | Number of results to skip before retrieving.              |\n",
        "| SearchValue               | String    | Search value for device search.                           |\n",
        "| SortColumn                | String    | Column for sorting results.                               |\n",
        "| SortOrder                 | String    | Sort order (asc/desc) for sorting results.                |\n",
        "| Columns                   | List      | Columns to include in the response.                       |\n",
        "| IsIncludedBlackListed     | Boolean   | Include blacklisted devices (true/false).                |\n"
      ],
      "metadata": {
        "id": "_ROLR9vYa1QT"
      }
    },
    {
      "cell_type": "code",
      "source": [
        "Body = f'''{{\n",
        "    \"AdanceSearch\": false,\n",
        "    \"AdvSearchJobID\": \"\",\n",
        "    \"AdvSearchValue\": [],\n",
        "    \"SearchColumns\": [],\n",
        "    \"EnableDeviceGlobalSearch\": false,\n",
        "    \"ID\":null,\n",
        "    \"IsSearch\": false,\n",
        "    \"IsTag\": false,\n",
        "    \"Limit\": 100,\n",
        "    \"Offset\": 0,\n",
        "    \"SearchValue\": \"\",\n",
        "    \"SortColumn\": \"DeviceName\",\n",
        "    \"SortOrder\": \"asc\",\n",
        "    \"Columns\": [\n",
        "        \"DeviceName\",\n",
        "        \"DeviceModelName\",\n",
        "        \"ConnectionStatus\",\n",
        "        \"LastTimeStamp\",\n",
        "        \"Battery\",\n",
        "        \"DeviceTimeStamp\",\n",
        "        \"ReleaseVersion\"\n",
        "    ],\n",
        "    \"IsIncludedBlackListed\": false\n",
        "}}'''\n",
        "\n",
        "#Limit:maximum number of results (rows) you want to receive in the response\n",
        "#Offset=0 =>start retrieving results from the beginning, Offset=10 =>skip the first 10 results and start retrieving results from the 11th one and so on\n",
        "\n",
        "\n",
        "#Send request\n",
        "response = requests.post(url+\"devicegrid\",auth=Credentials,data=Body,headers=headers)\n",
        "\n",
        "print(json.dumps(json.loads(response.text), indent=4))\n",
        "response_data = response.json()\n",
        "print(response.text)\n",
        "\n",
        "if \"rows\" in response_data and len(response_data[\"rows\"]) > 0:\n",
        "    DeviceIds = [device[\"DeviceID\"] for device in response_data[\"rows\"]]\n",
        "    print(\"Device IDs:\", DeviceIds)\n"
      ],
      "metadata": {
        "id": "KTrz9Ybua7ZT"
      },
      "execution_count": null,
      "outputs": []
    },
    {
      "cell_type": "markdown",
      "source": [
        "##Create Group"
      ],
      "metadata": {
        "id": "kgFRh-Koa_9_"
      }
    },
    {
      "cell_type": "markdown",
      "source": [
        "**API to create new group**\n",
        "\n",
        "This api allows you to create new Group"
      ],
      "metadata": {
        "id": "-q1rRMqQbGWS"
      }
    },
    {
      "cell_type": "markdown",
      "source": [
        "Request Body Schema\n",
        "\n",
        "| Parameter           | Data Type | Description                              |\n",
        "|---------------|-----------|------------------------------------------|\n",
        "| GroupID       | String     | ID of the parent group       |\n",
        "| GroupName     | String    | Name of the group.                       |\n"
      ],
      "metadata": {
        "id": "QYSpmV4vbL6C"
      }
    },
    {
      "cell_type": "code",
      "source": [
        "GroupID = \"null\"  # Enter the Group ID\n",
        "GroupName = \"testgroup15\"  #Enter Group Name\n",
        "\n",
        "Body = f\"\"\"{{\n",
        "   \"GroupID\": {GroupID},\n",
        "   \"GroupName\":\"{GroupName}\"\n",
        "}}\"\"\"\n",
        "#GroupID: ID of the parent group, Group ID \"null\" for HOME group\n",
        "\n",
        "#Send request\n",
        "response = requests.post(url+\"group\",auth=Credentials,data=Body,headers=headers)\n",
        "\n",
        "print(response.text)\n",
        "CreatedGroupID = response.text"
      ],
      "metadata": {
        "id": "qXDCSfL5bQam"
      },
      "execution_count": null,
      "outputs": []
    },
    {
      "cell_type": "markdown",
      "source": [
        "##Move Device to Group"
      ],
      "metadata": {
        "id": "uNKDU1yTbUzq"
      }
    },
    {
      "cell_type": "markdown",
      "source": [
        "**API to move devices to the group**\n",
        "\n",
        "This api allows you to move all the Devices that are listed in List device section to the new group that has been created in Create Group section"
      ],
      "metadata": {
        "id": "X-tXWG43bZ3W"
      }
    },
    {
      "cell_type": "markdown",
      "source": [
        "Request Body Schema\n",
        "\n",
        "| Key         | Data Type | Description                                |\n",
        "|-------------|-----------|--------------------------------------------|\n",
        "| DeviceId    | List     | ID of the device.                         |\n",
        "| GroupId     | String     | The ID of the destination group for the device movement |\n"
      ],
      "metadata": {
        "id": "SusNuuYUbfNd"
      }
    },
    {
      "cell_type": "code",
      "source": [
        "Body = [\n",
        "    {\"DeviceId\": device_id, \"GroupId\": CreatedGroupID} for device_id in DeviceIds\n",
        "]\n",
        "\n",
        "#Send request\n",
        "response = requests.put(url + \"deviceassignment\", auth=Credentials, json=Body, headers=headers)\n",
        "print(\"Move response:\", response.text)"
      ],
      "metadata": {
        "id": "yu2jjA3cbesB"
      },
      "execution_count": null,
      "outputs": []
    },
    {
      "cell_type": "markdown",
      "source": [
        "##Create Device Group Set"
      ],
      "metadata": {
        "id": "UtZgLkt3MQDE"
      }
    },
    {
      "cell_type": "markdown",
      "source": [
        "**API to create Device Group set**\n",
        "\n",
        "This api allows you to create Device Group set based on GroupIDs and Users assigned these Device Group Set will have the visibility of the devices which is in this device group set."
      ],
      "metadata": {
        "id": "HeivteZLMVy2"
      }
    },
    {
      "cell_type": "markdown",
      "source": [
        "Request Body Schema\n",
        "\n",
        "| Parameter                             | Data Type | Description                                           |\n",
        "|---------------------------------|-----------|-------------------------------------------------------|\n",
        "| TemplateName                    | String    | Name of the device set template.                     |\n",
        "| TemplateDescription             | String    | Description of the device set template.              |\n",
        "| TemplateData                    | List of string    | List of Group IDs             |\n",
        "| isAllowedNewGroupOrJobFolder    | Integer   | Allow addition of new group according to need         |\n",
        "\n",
        "Values for `isAllowedNewGroupOrJobFolder`:\n",
        "\n",
        "| Value | Description                                               |\n",
        "|-------|-----------------------------------------------------------|\n",
        "| 0     | Don't Allow Any New Groups                               |\n",
        "| 1     | Automatically Allow New Groups Added Within Home Group and Allowed Sub Groups |\n",
        "| 2     | Automatically Allow New Groups Added Only Within Allowed Sub Groups |\n"
      ],
      "metadata": {
        "id": "6lEYQ2_VMf5S"
      }
    },
    {
      "cell_type": "code",
      "source": [
        "deviceSet_template_name = \"GroupSet16\"             #Name of Device Group Set\n",
        "deviceSet_template_description = \"Device_GroupSet13\"\n",
        "deviceSet_template_data = [CreatedGroupID]           #List of Device Group ID\n",
        "isAllowedNewGroupOrJobFolder = 0\n",
        "#isAllowedNewGroupOrJobFolder=> 0:Don't Allow Any New Groups, 1:Automatically Allow New Groups Added Within Home Group and Allowed Sub Groups, 2:Automatically Allow New Groups Added Only Within Allowed Sub Groups\n",
        "\n",
        "# Construct the request body\n",
        "Body = {\n",
        "    \"TemplateName\": deviceSet_template_name,\n",
        "    \"TemplateDescription\": deviceSet_template_description,\n",
        "    \"TemplateData\": deviceSet_template_data,\n",
        "    \"isAllowedNewGroupOrJobFolder\": isAllowedNewGroupOrJobFolder\n",
        "}\n",
        "\n",
        "# Send POST request\n",
        "response = requests.post(url + \"UserGroupPermission\", auth=Credentials, json=Body, headers=headers)\n",
        "\n",
        "# Print the response\n",
        "print(json.dumps(json.loads(response.text), indent=4))\n",
        "\n",
        "response_data = response.json()\n",
        "for template in response_data:\n",
        "    if template[\"TemplateName\"] == deviceSet_template_name and template[\"TemplateDescription\"]==deviceSet_template_description:\n",
        "        GroupTemplateID = template[\"TemplateId\"]\n",
        "        print(GroupTemplateID)"
      ],
      "metadata": {
        "id": "WaNX_DUJEThl"
      },
      "execution_count": null,
      "outputs": []
    },
    {
      "cell_type": "markdown",
      "source": [
        "##Create Jobs/Profiles Folder Set"
      ],
      "metadata": {
        "id": "Z35tykyDMn5C"
      }
    },
    {
      "cell_type": "markdown",
      "source": [
        "**API to create Jobs/profiles folder Set**\n",
        "\n",
        "This api allows you to create Jobs/Profiles Folder and User assigned with this Jobs?Profiles Folder Set will have visibility of this Jobs/Profiles set only."
      ],
      "metadata": {
        "id": "PVQBYTP1M4TM"
      }
    },
    {
      "cell_type": "markdown",
      "source": [
        "Request Body Schema\n",
        "\n",
        "| Parameter                             | Data Type | Description                                           |\n",
        "|---------------------------------|-----------|-------------------------------------------------------|\n",
        "| TemplateName                    | String    | Name of the folder template.                         |\n",
        "| TemplateDescription             | String    | Description of the folder template.                  |\n",
        "| TemplateData                    | List of String    | List of Ids of Jobs/Profiles folder     |\n",
        "| isAllowedNewGroupOrJobFolder    | Integer   | Allow addition of new groups or job folders according to need        |\n",
        "| ReportTemplateData              | List of String    | List of Ids of Custom reports folder      |\n",
        "| isForClone                      | Boolean   | Indicates if the template is for cloning purposes.  |\n",
        "\n",
        "Values for `isAllowedNewGroupOrJobFolder`:\n",
        "\n",
        "| Value | Description                                               |\n",
        "|-------|-----------------------------------------------------------|\n",
        "| 0     | Don't Allow Any New Folders                              |\n",
        "| 1     | Automatically Allow New Folders Added Within Home Folder and Allowed Sub Folders |\n",
        "| 2     | Automatically Allow New Folders Added Only Within Allowed Sub Folders |\n"
      ],
      "metadata": {
        "id": "dfWijNe4OZNt"
      }
    },
    {
      "cell_type": "code",
      "source": [
        "folder_template_name = \"Create_Jobs/profiles_9\"              #Name of Folder Set\n",
        "folder_template_description = \"Create_Jobs/profiles_9\"\n",
        "folder_template_data = [\n",
        "\n",
        "]                                             #folder_template_data => List of Ids of Jobs/Profiles folder\n",
        "is_allowed_new_group_or_job_folder = \"0\"\n",
        "report_template_data = []                     #report_template_data => List of Ids of Custom reports folder\n",
        "is_for_clone = False\n",
        "#isAllowedNewGroupOrJobFolder=> 0:Don't Allow Any New Folders, 1:Automatically Allow New Folders Added Within Home Folder and Allowed Sub Folders, 2:Automatically Allow New Folders Added Only Within Allowed Sub Folders\n",
        "\n",
        "\n",
        "Body = {\n",
        "    \"TemplateName\": folder_template_name,\n",
        "    \"TemplateDescription\": folder_template_description,\n",
        "    \"TemplateData\": folder_template_data,\n",
        "    \"isAllowedNewGroupOrJobFolder\": is_allowed_new_group_or_job_folder,\n",
        "    \"ReportTemplateData\": report_template_data,\n",
        "    \"isForClone\": is_for_clone\n",
        "}\n",
        "\n",
        "# Send POST request\n",
        "response = requests.post(url + \"UserJobPermission\", auth=Credentials, json=Body, headers=headers)\n",
        "\n",
        "print(json.dumps(json.loads(response.text), indent=4))\n",
        "\n",
        "response_data = response.json()\n",
        "for template in response_data:\n",
        "    if template[\"TemplateName\"] == folder_template_name and template[\"TemplateDescription\"]==folder_template_description:\n",
        "        JobsTemplateId = template[\"TemplateId\"]\n",
        "\n",
        "print(JobsTemplateId)\n"
      ],
      "metadata": {
        "id": "zdZ1uf76MwNn"
      },
      "execution_count": null,
      "outputs": []
    },
    {
      "cell_type": "markdown",
      "source": [
        "##Create Role"
      ],
      "metadata": {
        "id": "Z-GDro4VYrlU"
      }
    },
    {
      "cell_type": "markdown",
      "source": [
        "**Permission IDs and Description**\n",
        "<details>\n",
        "<summary><b style=\"font-size: 18px;\">Click here to take the reference and add the value in Role_template_data</summary>\n",
        "\n",
        "| Permission ID | Description                                  |\n",
        "|---------------|----------------------------------------------|\n",
        "| 1             | New Group                                    |\n",
        "| 2             | Rename Group                                 |\n",
        "| 3             | Delete Group                                 |\n",
        "| 4             | Add/Delete Group Job                         |\n",
        "| 5             | Delete Device                                |\n",
        "| 6             | Apply Job                                    |\n",
        "| 7             | Job Queue Remove job                         |\n",
        "| 8             | Blacklist Device                             |\n",
        "| 9             | Remote Device                                |\n",
        "| 10            | Locate Device/Location Tracking              |\n",
        "| 11            | Send Message To Device                       |\n",
        "| 12            | Reboot Device                                |\n",
        "| 13            | Lock Device                                  |\n",
        "| 14            | Wipe Device                                  |\n",
        "| 15            | Lock Applications                           |\n",
        "| 16            | Uninstall Applications                       |\n",
        "| 17            | Applicaiton Run At Atart Up                  |\n",
        "| 18            | Monitor Application                          |\n",
        "| 19            | Import Preapproved Device                    |\n",
        "| 20            | Auto Approve Device                          |\n",
        "| 21            | Approve Device                               |\n",
        "| 22            | Whitelist Device                             |\n",
        "| 23            | Close Ticket                                 |\n",
        "| 24            | Delete Ticket                                |\n",
        "| 25            | Add/Edit/Delete Service Centers              |\n",
        "| 26            | Add/Edit/Delete Fault Codes                  |\n",
        "| 27            | Delete Message                               |\n",
        "| 28            | Reply Message                                |\n",
        "| 29            | New Job                                      |\n",
        "| 30            | Delete Job                                   |\n",
        "| 31            | Modify Job                                   |\n",
        "| 32            | Generate Configuration Barcodes              |\n",
        "| 33            | System Log Report                            |\n",
        "| 34            | Device Health Report                         |\n",
        "| 35            | Device Connected Report                      |\n",
        "| 36            | Jobs Deployed Report                         |\n",
        "| 37            | Asset Tracking Report                        |\n",
        "| 38            | Activity Console                             |\n",
        "| 39            | Change Password                              |\n",
        "| 40            | License Management                           |\n",
        "| 41            | Add User                                     |\n",
        "| 42            | Edit User                                    |\n",
        "| 43            | Delete User                                  |\n",
        "| 44            | Edit Device Name                             |\n",
        "| 45            | Edit Device Notes                            |\n",
        "| 46            | Assign Group                                 |\n",
        "| 47            | CallLog Tracking Report                      |\n",
        "| 48            | Call Logs                                    |\n",
        "| 49            | SureLock Settings                            |\n",
        "| 50            | SureFox Settings                             |\n",
        "| 51            | App Version Tracking Report                  |\n",
        "| 53            | Clear Application Data                       |\n",
        "| 54            | SureVideo Settings                           |\n",
        "| 55            | Device History Report                        |\n",
        "| 56            | DataUsage Report                             |\n",
        "| 57            | SmsLog Device                                |\n",
        "| 58            | Allow Home Group                             |\n",
        "| 59            | Edit Telecom Management                      |\n",
        "| 60            | Allow new device group                       |\n",
        "| 61            | Allow new Folder                             |\n",
        "| 62            | Hide/Unhide Application                      |\n",
        "| 63            | OS Platforms Chart                           |\n",
        "| 64            | Available Battery Chart                      |\n",
        "| 65            | Available RAM Chart                          |\n",
        "| 66            | Available Storage Chart                      |\n",
        "| 67            | Last Connected Chart                         |\n",
        "| 68            | Online/Offline Chart                         |\n",
        "| 69            | Device SIM Status Chart                      |\n",
        "| 70            | Roaming Status Chart                         |\n",
        "| 71            | Unread Mail Chart                            |\n",
        "| 72            | Unapproved Devices Chart                     |\n",
        "| 73            | Jobs Chart                                   |\n",
        "| 74            | New folder                                   |\n",
        "| 75            | Upload files                                 |\n",
        "| 76            | Delete File/Folder                           |\n",
        "| 77            | Add Android Profile                          |\n",
        "| 78            | Edit Android Profile                         |\n",
        "| 79            | Delete Android Profile                       |\n",
        "| 80            | Set As Default Android Profile               |\n",
        "| 81            | Enroll AFW Android Profile                   |\n",
        "| 82            | Add iOS Profile                              |\n",
        "| 83            | Edit iOS Profile                             |\n",
        "| 84            | Delete iOS Profile                           |\n",
        "| 85            | Set As Default iOS Profile                   |\n",
        "| 86            | Settings Android Profile                     |\n",
        "| 87            | Add Windows Profile                          |\n",
        "| 88            | Edit Windows Profile                         |\n",
        "| 89            | Delete Windows Profile                       |\n",
        "| 90            | Set As Default Windows Profile               |\n",
        "| 91            | Remote Buzz                                  |\n",
        "| 92            | App Store Android Add                        |\n",
        "| 93            | App Store Android Edit                       |\n",
        "| 94            | App Store Android Remove                     |\n",
        "| 95            | App Store iOS Add                            |\n",
        "| 96            | App Store iOS Edit                           |\n",
        "| 97            | App Store iOS Remove                         |\n",
        "| 99            | Installed Job Report                         |\n",
        "| 100           | Change Password                              |\n",
        "| 101           | Enable or Disable User                       |\n",
        "| 102           | Add macOS Profile                            |\n",
        "| 103           | Edit macOS Profile                           |\n",
        "| 104           | Delete macOS Profile                         |\n",
        "| 105           | Set As Default macOS Profile                |\n",
        "| 106           | App Store macOS Add                         |\n",
        "| 107           | App Store macOS Edit                        |\n",
        "| 108           | App Store macOS Remove                      |\n",
        "| 109           | Export                                      |\n",
        "| 112           | Clear History                               |\n",
        "| 113           | Modify History                              |\n",
        "| 114           | Export History                              |\n",
        "| 115           | Apply Profile                               |\n",
        "| 116           | Compliance Job Report                       |\n",
        "| 117           | Device Activity Report                      |\n",
        "| 118           | App Store Windows Add                       |\n",
        "| 119           | App Store Windows Edit                      |\n",
        "| 120           | App Store Windows Remove                    |\n",
        "| 121           | Custom Report                               |\n",
        "| 122           | View Custom Report                          |\n",
        "| 123           | Modify Custom Report                        |\n",
        "| 124           | Delete Custom Report                        |\n",
        "| 125           | Allow Intercom                              |\n",
        "| 126           | Remote Control                              |\n",
        "| 127           | File Manager                                |\n",
        "| 128           | Remote Clipboard                            |\n",
        "| 129           | Task Manager                                |\n",
        "| 130           | Data Usage Report                           |\n",
        "| 131           | Branding Info                               |\n",
        "| 132           | Device Enrollment Rules                     |\n",
        "| 133           | EULA Disclaimer Policy                      |\n",
        "| 134           | iOS/macOS Settings                          |\n",
        "| 135           | Group Assignment Rules                      |\n",
        "| 136           | SAML Single Sign-On                         |\n",
        "| 137           | Alert Template                              |\n",
        "| 138           | Customize Toolbar                           |\n",
        "| 139           | Customize Nix/SureLock                       |\n",
        "| 140           | Certificate Management                       |\n",
        "| 141           | Data Analytics                               |\n",
        "| 142           | Miscellaneous Settings                       |\n",
        "| 143           | Mobile Email Management                      |\n",
        "| 144           | Account Management                           |\n",
        "| 145           | Manage Subscription                          |\n",
        "| 146           | Over All Compliance Chart                    |\n",
        "| 147           | OS Version Compliance Chart                  |\n",
        "| 148           | Rooted Compliance Chart                      |\n",
        "| 149           | Connectivity Compliance Chart                |\n",
        "| 150           | Sim Change Compliance Chart                 |\n",
        "| 151           | Password Policy Compliance Chart            |\n",
        "| 152           | Battery Compliance Chart                    |\n",
        "| 153           | Application Policy Compliance Chart         |\n",
        "| 154           | Siem Integration                            |\n",
        "| 155           | Chrome OS Device Management                 |\n",
        "| 156           | Office365 Settings                          |\n",
        "| 157           | Add Office365 Profile                       |\n",
        "| 158           | Edit Office365 Profile                      |\n",
        "| 159           | Delete Office365 Profile                    |\n",
        "| 160           | Assign to groups Office365 Profile          |\n",
        "| 161           | WebHooks Settings                           |\n",
        "| 162           | Email Verification                          |\n",
        "| 163           | Select unapproved Android Enterprise apps   |\n",
        "| 164           | Plugins                                     |\n",
        "| 165           | SD Card Change Compliance Chart             |\n",
        "| 166           | Firmware Updates                            |\n",
        "| 167           | Efota Registration Status Chart             |\n",
        "| 168           | Update Firmware                             |\n",
        "| 169           | Move to Folder Android Profile              |\n",
        "| 170           | Move to Folder iOS Profile                  |\n",
        "| 171           | Move to Folder Windows Profile              |\n",
        "| 172           | Move to Folder macOS Profile                |\n",
        "| 173           | Data Analytics Dashboard                    |\n",
        "| 174           | Mobile Network Connectivity Compliance Chart|\n",
        "| 175           | Windows Health Attestation                  |\n",
        "| 176           | Intel AMT Status                            |\n",
        "| 177           | Device Storage Compliance Chart             |\n",
        "| 178           | Move Jobs To Folder                         |\n",
        "| 179           | Set as Default QR Code                      |\n",
        "| 180           | Modify QR Code                              |\n",
        "| 181           | Delete QR Code                              |\n",
        "| 182           | View QR Code                                |\n",
        "| 183           | Create QR Code                              |\n",
        "| 185           | Mark As Read                                |\n",
        "| 186           | Mark As Unread                              |\n",
        "| 187           | Cleanup Inbox                               |\n",
        "| 188           | Add Linux Profile                           |\n",
        "| 189           | Edit Linux Profile                          |\n",
        "| 190           | Delete Linux Profile                        |\n",
        "| 191           | Set As Default Linux Profile               |\n",
        "| 192           | Move to Folder Linux Profile               |\n",
        "| 193           | NAC Integration                            |\n",
        "| 194           | Rename Dashboard                           |\n",
        "| 195           | Copy Dashboard                             |\n",
        "| 196           | Edit Dashboard                             |\n",
        "| 197           | Delete Dashboard                           |\n",
        "| 198           | My Favourite Dashboard                     |\n",
        "| 199           | Dashboard Edit Layout                      |\n",
        "| 200           | Dashboard Add Chart                        |\n",
        "| 201           | Create Dashboard                           |\n",
        "| 202           | Data Usage Status                          |\n",
        "| 203           | Enterprise Integrations                    |\n",
        "| 204           | Scan for threats                           |\n",
        "| 205           | Windows Copy Genuine Validation            |\n",
        "| 206           | Mobile Threat Defence                      |\n",
        "| 221           | Create Custom Column                  |\n",
        "| 222           | Delete Custom Column                  |\n",
        "| 223           | Move Device                           |\n",
        "| 224           | Security Patch Level                  |\n",
        "| 225           | Custom                                |\n",
        "| 226           | Windows Update                        |\n",
        "| 256           | Edit Bluetooth Name                   |\n",
        "| 257           | Modify Custom Column                  |\n",
        "| 258           | Edit Android Enterprise               |\n",
        "| 259           | Edit Geo Fence                        |\n",
        "| 260           | Edit Time Fence                       |\n",
        "| 261           | Edit Network Fence                    |\n",
        "| 262           | Remove Installed Profile              |\n",
        "| 263           | Reset Password                        |\n",
        "| 264           | System Scan                           |\n",
        "| 265           | Active Kiosk Application              |\n",
        "| 266           | Wi-Fi Signal Strength                 |\n",
        "| 267           | Location Access                       |\n",
        "| 268           | Edit Custom Column                    |\n",
        "| 269           | Things Management                     |\n",
        "| 270           | Unapproved View                       |\n",
        "| 271           | Preapproved View                            |\n",
        "| 272           | Allow Enrollment                            |\n",
        "| 273           | Block Enrollment                            |\n",
        "| 274           | Invite User                                 |\n",
        "| 275           | Blocklisted View                            |\n",
        "| 276           | Pending Delete View                         |\n",
        "| 277           | Force Delete                                |\n",
        "| 278           | Jobs View                                   |\n",
        "| 279           | Reports View                                |\n",
        "| 280           | Dashboard View                              |\n",
        "| 281           | Inbox View                                  |\n",
        "| 283           | Profiles View                               |\n",
        "| 284           | App Store View                              |\n",
        "| 285           | Enrollment View                             |\n",
        "| 286           | MTD View                                    |\n",
        "| 287           | Allow FileStore Permissions                 |\n",
        "| 288           | Device Encryption Report                    |\n",
        "| 289           | Restore                                     |\n",
        "| 290           | View Custom Property                        |\n",
        "| 291           | Add Custom Property                         |\n",
        "| 292           | Modify Custom Property                      |\n",
        "| 293           | Delete Custom Property                      |\n",
        "| 294           | Import Custom Property                      |\n",
        "| 295           | View Custom property                        |\n",
        "| 296           | Edit Custom property                        |\n",
        "| 297           | Add Default Job                             |\n",
        "| 298           | Delete Default Job                          |\n",
        "| 301           | Retry Pending/Failed Jobs                   |\n",
        "| 303           | Export Logs                                 |\n",
        "| 304           | Device Logs                                 |\n",
        "| 305           | Enable FileStore - all devices              |\n",
        "| 306           | Allow Remote Screen Settings                |\n",
        "| 307           | Allow Remote Screen Play/Pause              |\n",
        "| 308           | Allow Remote Screen Swipe to Unlock         |\n",
        "| 309           | Allow Remote Screen Volume                  |\n",
        "| 310           | Allow Remote Screen Search                  |\n",
        "| 311           | Allow Remote Screen Screenshot              |\n",
        "| 312           | Allow Remote Screen Ctrl+alt+delete        |\n",
        "| 313           | Allow Remote Screen Shortcut Management    |\n",
        "| 314           | Allow Remote Screen Change View            |\n",
        "| 315           | Allow Remote Screen Resolution Change      |\n",
        "| 316           | Allow remote New Folder                    |\n",
        "| 317           | Allow remote Delete                        |\n",
        "| 318           | Allow remote Download                      |\n",
        "| 319           | Allow remote Upload                        |\n",
        "| 320           | Allow Remote Send to Device Clipboard      |\n",
        "| 321           | Allow Remote Read from Device Clipboard    |\n",
        "| 322           | Allow Remote Clear from Device Clipboard   |\n",
        "| 323           | Allow Remote Kill Process Task Manager     |\n",
        "| 324           | Allow Remote Kill AllTask Manager          |\n",
        "| 325           | App Store Linux Add                        |\n",
        "| 326           | App Store Linux Edit                       |\n",
        "| 327           | App Store Linux Remove                     |\n",
        "| 328           | Edit Things Info                           |\n",
        "| 330           | Device Enrollment Restrictions             |\n",
        "| 331           | Custom Properties                           |\n",
        "| 332           | Import Custom property                      |\n",
        "| 333           | Edit Custom Property                        |\n",
        "| 334           | Group Details                               |\n",
        "| 335           | Hardware Change                             |\n",
        "| 336           | Device Encryption                           |\n",
        "| 337           | Device Uptime                               |\n",
        "| 338           | OS Build Number                             |\n",
        "| 339           | Allow Remote View                           |\n",
        "| 340           | Allow Remote Touch                          |\n",
        "| 342           | Service Now                                 |\n",
        "| 343           | Apps                                        |\n",
        "| 344           | Power Off Device                            |\n",
        "| 345           | Job Revision History                        |\n",
        "| 346           | Revert Job                                  |\n",
        "| 347           | Compare Job                                 |\n",
        "| 348           | Save as Job                                 |\n",
        "| 349           | Export Logs                                 |\n",
        "| 350           | Download Logs                               |\n",
        "| 351           | Request Report                              |\n",
        "| 352           | OEM Configuration Status                    |\n",
        "| 353           | Android Management                          |\n",
        "| 358           | Play For Work                               |\n",
        "| 360           | Add Custom Report                           |\n",
        "| 361           | Add ChromeOS Profile                        |\n",
        "| 362           | Edit ChromeOS Profile                       |\n",
        "| 363           | Delete ChromeOS Profile                     |\n",
        "| 364           | App Store ChromeOS Add                      |\n",
        "| 365           | App Store ChromeOS Edit                     |\n",
        "| 366           | App Store ChromeOS Remove                   |\n",
        "| 367           | Apply Jobs/Profile                          |\n",
        "| 1111          | Relay Server Report                         |\n",
        "| 11001         | Auto fix rules                              |\n",
        "| 12001         | Application version                         |\n",
        "| 12002         | OS build version                            |\n",
        "\n",
        "</details>\n"
      ],
      "metadata": {
        "id": "kNzidJ41Y0TU"
      }
    },
    {
      "cell_type": "markdown",
      "source": [
        "**API to create Role**\n",
        "\n",
        "This api allows you to create Role based on specific sets of permission IDs and Users assigned these roles will have the ability to perform actions corresponding to the provided permission IDs. In other words, users will be limited to actions granted by the permissions associated with their roles."
      ],
      "metadata": {
        "id": "YxICLV9PZALT"
      }
    },
    {
      "cell_type": "code",
      "source": [
        "Role_template_name = \"licensed_india_role13\"           #Name of Role Template\n",
        "Role_template_description = \"licensed_india_role13\"       #Description of Role Template\n",
        "\n",
        "Role_template_data = [1,2]\n",
        "# Role_template_data contains IDs for specific permission.\n",
        "# To add IDs, refer to the descriptions and include the corresponding values.\n",
        "\n",
        "Body = {\n",
        "    \"TemplateName\": Role_template_name,\n",
        "    \"TemplateDescription\": Role_template_description,\n",
        "    \"TemplateData\": Role_template_data\n",
        "}\n",
        "\n",
        "# Send POST request\n",
        "response = requests.post(url + \"UserRole\", auth=Credentials, json=Body, headers=headers)\n",
        "\n",
        "# Print the response\n",
        "print(json.dumps(json.loads(response.text), indent=4))\n",
        "\n",
        "response_data = response.json()\n",
        "for template in response_data:\n",
        "    if template[\"TemplateName\"] == Role_template_name and template[\"TemplateDescription\"]==Role_template_description:\n",
        "        RoleTemplateID = template[\"TemplateId\"]\n",
        "\n",
        "print(RoleTemplateID)\n"
      ],
      "metadata": {
        "id": "xT-RCvnJYypZ"
      },
      "execution_count": null,
      "outputs": []
    },
    {
      "cell_type": "markdown",
      "source": [
        "##Create Device Grid Column set"
      ],
      "metadata": {
        "id": "AZhJxGiCZFeX"
      }
    },
    {
      "cell_type": "markdown",
      "source": [
        "**Grid Column IDs and Description**\n",
        "<details>\n",
        "<summary><b style=\"font-size: 18px;\">Click here to take the reference and add the value in Grid_data_template</summary>\n",
        "\n",
        "\n",
        "| ID  | Description                   |\n",
        "|-----|-------------------------------|\n",
        "| 0   | Select All                    |\n",
        "| 11  | Agent Version                 |\n",
        "| 42  | Android Enterprise            |\n",
        "| 57  | Android ID                    |\n",
        "| 3   | Battery                       |\n",
        "| 82  | Battery Serial Number         |\n",
        "| 83  | Battery Charge Cycles         |\n",
        "| 84  | Battery Health                |\n",
        "| 33  | Bluetooth Status              |\n",
        "| 40  | Bluetooth Name                |\n",
        "| 35  | Bluetooth SSID                |\n",
        "| 10  | Cell Signal Strength(%)       |\n",
        "| 71  | Cell Signal Strength(dBm)     |\n",
        "| 72  | CPU Temperature               |\n",
        "| 22  | CPU USAGE                     |\n",
        "| 49  | CTS Verified                  |\n",
        "| 21  | Data Usage                    |\n",
        "| 67  | DEP Server                    |\n",
        "| 61  | Device ID                     |\n",
        "| 63  | Device Locale                 |\n",
        "| 55  | Device Local IP Address       |\n",
        "| 7   | Device Registered             |\n",
        "| 9   | Device Roaming                |\n",
        "| 54  | Device Time Zone              |\n",
        "| 30  | Device User Name              |\n",
        "| 47  | Encryption Status             |\n",
        "| 26  | Enrolled                      |\n",
        "| 60  | Firmware Version              |\n",
        "| 59  | FOTA Registration Status      |\n",
        "| 39  | Free Program Memory           |\n",
        "| 38  | Free Storage Memory           |\n",
        "| 81   | Google Advertising ID            |\n",
        "| 31   | GPS Status                       |\n",
        "| 23   | GPU Usage                        |\n",
        "| 43   | Group Path                       |\n",
        "| 58   | Hash Code                        |\n",
        "| 66   | Hostname                         |\n",
        "| 16   | IMEI                             |\n",
        "| 48   | IMEI2                            |\n",
        "| 73   | IMSI                             |\n",
        "| 80   | Installer Package                |\n",
        "| 62   | Intel® AMT Status                |\n",
        "| 4    | IP Address                       |\n",
        "| 20   | KNOX License                     |\n",
        "| 5    | Last Connected                   |\n",
        "| 6    | Last Device Time                 |\n",
        "| 65   | Last Logged In User              |\n",
        "| 44   | Last System Scan                 |\n",
        "| 88   | Manufacturer                     |\n",
        "| 77   | Media performance Class          |\n",
        "| 76   | MEID                             |\n",
        "| 27   | Notes                            |\n",
        "| 8    | Network Operator                 |\n",
        "| 29   | Network Type                     |\n",
        "| 37   | OS Build Number                  |\n",
        "| 12   | OS Version                       |\n",
        "| 17   | Phone Number                     |\n",
        "| 50   | Platform Integrity               |\n",
        "| 1    | Platform/Model                   |\n",
        "| 28   | Polling Mechanism                |\n",
        "| 69   | Processor                        |\n",
        "| 19   | Device Privilege Status          |\n",
        "| 41   | Security Path Date               |\n",
        "| 18   | Serial Number                    |\n",
        "| 32   | Sim serial Number(ICCID)         |\n",
        "| 2    | Status                           |\n",
        "| 25   | Supervised                       |\n",
        "| 75   | SureDefence Version              |\n",
        "| 14   | SureFox Version                  |\n",
        "| 36   | SureLock Settings Identifier     |\n",
        "| 13   | SureLock Version                 |\n",
        "| 15   | SureVideo Version                |\n",
        "| 24   | Battery Temperature(?)           |\n",
        "| 45   | Threats Count                    |\n",
        "| 51   | Threat Protection                |\n",
        "| 53   | Unknown Source Apps              |\n",
        "| 34   | USB Status                       |\n",
        "| 52   | USB Debugging                    |\n",
        "| 46   | Wi-Fi Hotspot Status             |\n",
        "| 56   | WiFi SSID                        |\n",
        "| 74   | WiFi Mac Address                 |\n",
        "| 68   | WiFi Signal Strength(%)          |\n",
        "| 70   | WiFi Signal Strength(dBm)        |\n",
        "| 85   | Latitude                         |\n",
        "| 86   | Longitude                        |\n",
        "| 87   | Address                          |\n",
        "\n",
        "\n",
        "</details>\n"
      ],
      "metadata": {
        "id": "Y4ecY1S5ZKYc"
      }
    },
    {
      "cell_type": "markdown",
      "source": [
        "**API to create Device grid Column Set**\n",
        "\n",
        "This api allows you to create Device Grid Column based on specific sets of Grid column IDs and Users assigned these device grid column set will have the ability to perform actions corresponding to the provided Grid Column Ids."
      ],
      "metadata": {
        "id": "X1uV8xEAZPm6"
      }
    },
    {
      "cell_type": "markdown",
      "source": [
        "Request Body Schema\n",
        "\n",
        "| Key                 | Data Type | Description                                |\n",
        "|---------------------|-----------|--------------------------------------------|\n",
        "| TemplateName        | String    | Name of the grid template.                 |\n",
        "| TemplateDescription | String    | Description of the grid template.          |\n",
        "| DataTemplate        | List of Integer    | Set of grid column ids |\n"
      ],
      "metadata": {
        "id": "GSjGGIoqZX0J"
      }
    },
    {
      "cell_type": "code",
      "source": [
        "Grid_template_name = \"Create_DeviceGridColumnSet_8\"               #Name of Grid Template\n",
        "Grid_template_description = \"Create_DeviceGridColumnSet_8\"          #Descriptions of Grid Template\n",
        "Grid_data_template = \"[ 11,3]\"\n",
        "# Grid_data_template contains IDs for specific Column\n",
        "# To add IDs, refer to the descriptions and include the corresponding values.\n",
        "\n",
        "# Construct the request body\n",
        "Body = {\n",
        "    \"TemplateName\": Grid_template_name,\n",
        "    \"TemplateDescription\": Grid_template_description,\n",
        "    \"DataTemplate\": Grid_data_template\n",
        "}\n",
        "\n",
        "# Send POST request\n",
        "response = requests.post(url + \"devicegridcolumn/\", auth=Credentials, json=Body, headers=headers)\n",
        "\n",
        "# Print the response\n",
        "print(json.dumps(json.loads(response.text), indent=4))\n",
        "\n",
        "response_data = response.json()\n",
        "for template in response_data:\n",
        "    if template[\"TemplateName\"] == Grid_template_name and template[\"TemplateDescription\"]==Grid_template_description and template[\"DataTemplate\"]==Grid_data_template:\n",
        "        DeviceGridTemplateID = template[\"TemplateId\"]\n",
        "\n",
        "print(DeviceGridTemplateID)\n"
      ],
      "metadata": {
        "id": "Nc8a3XfKZJI5"
      },
      "execution_count": null,
      "outputs": []
    },
    {
      "cell_type": "markdown",
      "source": [
        "##Create User"
      ],
      "metadata": {
        "id": "dI_4Q44GZcla"
      }
    },
    {
      "cell_type": "markdown",
      "source": [
        "**API to create Users**\n",
        "\n",
        "This api allows you to create users with assigned variables such as GroupTemplateID, JobsTemplateId, RoleTemplateID, and DeviceGridTemplateID, which are predefined in their respective sections.Users will be limited to actions granted by the GroupTemplateID,JobsTemplateId,RoleTemplateID and DeviceGridTemplateID"
      ],
      "metadata": {
        "id": "to191HuMZk7E"
      }
    },
    {
      "cell_type": "markdown",
      "source": [
        "Request Body Schema\n",
        "\n",
        "| Parameter                     | Data Type | Description                                        |\n",
        "|-------------------------|-----------|----------------------------------------------------|\n",
        "| Password                | String    | Base64 encoded password                          |\n",
        "| UserData                | Object    | User data including ID, name, email, and HideParentIfChildNotAllowed   |\n",
        "| FeaturesTemplateId      | String        | The ID of the Role template to assign to the user         |\n",
        "| GroupsTemplateId        | String       | The ID of the Device group set to assign to the user           |\n",
        "| JobsTemplateId          | String       | The ID of the Jobs/Profiles folder to assign to the user    |\n",
        "| Devicegridcolumntemplate| String       | The ID of the Device grid column set to assign to the user   |\n"
      ],
      "metadata": {
        "id": "HPGVuQB6Zrdo"
      }
    },
    {
      "cell_type": "code",
      "source": [
        "user_data = {\n",
        "    \"UserID\": \"Newuser17\",\n",
        "    \"FirstName\": \"Newuser17\",\n",
        "    \"LastName\": \"3\",\n",
        "    \"Email\": \"Newuser4@getnada.com\",\n",
        "    \"HideParentIfChildNotAllowed\": True\n",
        "}\n",
        "#UserID:Enter the user name, FirstName: Enter first name of user, LastName: Enter the last name of user, Email:Enter the email\n",
        "\n",
        "password = \"Test@123\"  #Enter the password\n",
        "passwordEncoded = base64.b64encode(password.encode()).decode()  # Base64 encoded password\n",
        "features_template_id = \"673840CF-78D7-40B9-811E-0282F10B7494\"                           #features_template_id:Role template id\n",
        "groups_template_id = \"945174F1-8ED0-49FE-BCC5-8C355508E2D1\"                           #groups_template_id: Device group set id\n",
        "jobs_template_id = \"632C071D-0528-40C9-8489-C594EFDC86A7\"                               #jobs_template_id: Jobs/Profiles folder set id\n",
        "device_grid_column_template = \"AE111F15-E5B0-411C-B277-2B7516C110AA\"              #device_grid_column_template: Device grid column set id\n",
        "\n",
        "#request body\n",
        "Body = {\n",
        "    \"Password\": passwordEncoded,\n",
        "    \"UserData\": user_data,\n",
        "    \"FeaturesTemplateId\": features_template_id,\n",
        "    \"GroupsTemplateId\": groups_template_id,\n",
        "    \"JobsTemplateId\": jobs_template_id,\n",
        "    \"Devicegridcolumntemplate\": device_grid_column_template\n",
        "}\n",
        "\n",
        "# Send POST request\n",
        "response = requests.post(url + \"user\", auth=Credentials, json=Body, headers=headers)\n",
        "\n",
        "# Print the response\n",
        "print(json.dumps(json.loads(response.text), indent=4))\n"
      ],
      "metadata": {
        "id": "UT_KVhPTZgk5"
      },
      "execution_count": null,
      "outputs": []
    }
  ]
}